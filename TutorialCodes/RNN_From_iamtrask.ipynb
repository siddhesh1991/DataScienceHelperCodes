{
 "cells": [
  {
   "cell_type": "code",
   "execution_count": 1,
   "metadata": {
    "collapsed": true
   },
   "outputs": [],
   "source": [
    "import copy, numpy as np\n",
    "np.random.seed(0)"
   ]
  },
  {
   "cell_type": "code",
   "execution_count": 2,
   "metadata": {
    "collapsed": true
   },
   "outputs": [],
   "source": [
    "# compute sigmoid nonlinearity\n",
    "def sigmoid(x):\n",
    "    output = 1/(1+np.exp(-x))\n",
    "    return output\n",
    "\n",
    "# convert output of sigmoid function to its derivative\n",
    "def sigmoid_output_to_derivative(output):\n",
    "    return output*(1-output)"
   ]
  },
  {
   "cell_type": "code",
   "execution_count": 4,
   "metadata": {
    "collapsed": true
   },
   "outputs": [],
   "source": [
    "# training dataset generation\n",
    "int2binary = {}\n",
    "binary_dim = 8\n",
    "largest_number = pow(2,binary_dim)"
   ]
  },
  {
   "cell_type": "code",
   "execution_count": 5,
   "metadata": {},
   "outputs": [
    {
     "data": {
      "text/plain": [
       "256"
      ]
     },
     "execution_count": 5,
     "metadata": {},
     "output_type": "execute_result"
    }
   ],
   "source": [
    "largest_number"
   ]
  },
  {
   "cell_type": "code",
   "execution_count": 6,
   "metadata": {
    "collapsed": true
   },
   "outputs": [],
   "source": [
    "#This is a lookup table that maps from an integer to its binary representation. We copy it into the int2binary. \n",
    "binary = np.unpackbits(np.array([range(largest_number)],dtype=np.uint8).T,axis=1)\n",
    "for i in range(largest_number):\n",
    "    int2binary[i] = binary[i]"
   ]
  },
  {
   "cell_type": "code",
   "execution_count": 8,
   "metadata": {},
   "outputs": [
    {
     "data": {
      "text/plain": [
       "{0: array([0, 0, 0, 0, 0, 0, 0, 0], dtype=uint8),\n",
       " 1: array([0, 0, 0, 0, 0, 0, 0, 1], dtype=uint8),\n",
       " 2: array([0, 0, 0, 0, 0, 0, 1, 0], dtype=uint8),\n",
       " 3: array([0, 0, 0, 0, 0, 0, 1, 1], dtype=uint8),\n",
       " 4: array([0, 0, 0, 0, 0, 1, 0, 0], dtype=uint8),\n",
       " 5: array([0, 0, 0, 0, 0, 1, 0, 1], dtype=uint8),\n",
       " 6: array([0, 0, 0, 0, 0, 1, 1, 0], dtype=uint8),\n",
       " 7: array([0, 0, 0, 0, 0, 1, 1, 1], dtype=uint8),\n",
       " 8: array([0, 0, 0, 0, 1, 0, 0, 0], dtype=uint8),\n",
       " 9: array([0, 0, 0, 0, 1, 0, 0, 1], dtype=uint8),\n",
       " 10: array([0, 0, 0, 0, 1, 0, 1, 0], dtype=uint8),\n",
       " 11: array([0, 0, 0, 0, 1, 0, 1, 1], dtype=uint8),\n",
       " 12: array([0, 0, 0, 0, 1, 1, 0, 0], dtype=uint8),\n",
       " 13: array([0, 0, 0, 0, 1, 1, 0, 1], dtype=uint8),\n",
       " 14: array([0, 0, 0, 0, 1, 1, 1, 0], dtype=uint8),\n",
       " 15: array([0, 0, 0, 0, 1, 1, 1, 1], dtype=uint8),\n",
       " 16: array([0, 0, 0, 1, 0, 0, 0, 0], dtype=uint8),\n",
       " 17: array([0, 0, 0, 1, 0, 0, 0, 1], dtype=uint8),\n",
       " 18: array([0, 0, 0, 1, 0, 0, 1, 0], dtype=uint8),\n",
       " 19: array([0, 0, 0, 1, 0, 0, 1, 1], dtype=uint8),\n",
       " 20: array([0, 0, 0, 1, 0, 1, 0, 0], dtype=uint8),\n",
       " 21: array([0, 0, 0, 1, 0, 1, 0, 1], dtype=uint8),\n",
       " 22: array([0, 0, 0, 1, 0, 1, 1, 0], dtype=uint8),\n",
       " 23: array([0, 0, 0, 1, 0, 1, 1, 1], dtype=uint8),\n",
       " 24: array([0, 0, 0, 1, 1, 0, 0, 0], dtype=uint8),\n",
       " 25: array([0, 0, 0, 1, 1, 0, 0, 1], dtype=uint8),\n",
       " 26: array([0, 0, 0, 1, 1, 0, 1, 0], dtype=uint8),\n",
       " 27: array([0, 0, 0, 1, 1, 0, 1, 1], dtype=uint8),\n",
       " 28: array([0, 0, 0, 1, 1, 1, 0, 0], dtype=uint8),\n",
       " 29: array([0, 0, 0, 1, 1, 1, 0, 1], dtype=uint8),\n",
       " 30: array([0, 0, 0, 1, 1, 1, 1, 0], dtype=uint8),\n",
       " 31: array([0, 0, 0, 1, 1, 1, 1, 1], dtype=uint8),\n",
       " 32: array([0, 0, 1, 0, 0, 0, 0, 0], dtype=uint8),\n",
       " 33: array([0, 0, 1, 0, 0, 0, 0, 1], dtype=uint8),\n",
       " 34: array([0, 0, 1, 0, 0, 0, 1, 0], dtype=uint8),\n",
       " 35: array([0, 0, 1, 0, 0, 0, 1, 1], dtype=uint8),\n",
       " 36: array([0, 0, 1, 0, 0, 1, 0, 0], dtype=uint8),\n",
       " 37: array([0, 0, 1, 0, 0, 1, 0, 1], dtype=uint8),\n",
       " 38: array([0, 0, 1, 0, 0, 1, 1, 0], dtype=uint8),\n",
       " 39: array([0, 0, 1, 0, 0, 1, 1, 1], dtype=uint8),\n",
       " 40: array([0, 0, 1, 0, 1, 0, 0, 0], dtype=uint8),\n",
       " 41: array([0, 0, 1, 0, 1, 0, 0, 1], dtype=uint8),\n",
       " 42: array([0, 0, 1, 0, 1, 0, 1, 0], dtype=uint8),\n",
       " 43: array([0, 0, 1, 0, 1, 0, 1, 1], dtype=uint8),\n",
       " 44: array([0, 0, 1, 0, 1, 1, 0, 0], dtype=uint8),\n",
       " 45: array([0, 0, 1, 0, 1, 1, 0, 1], dtype=uint8),\n",
       " 46: array([0, 0, 1, 0, 1, 1, 1, 0], dtype=uint8),\n",
       " 47: array([0, 0, 1, 0, 1, 1, 1, 1], dtype=uint8),\n",
       " 48: array([0, 0, 1, 1, 0, 0, 0, 0], dtype=uint8),\n",
       " 49: array([0, 0, 1, 1, 0, 0, 0, 1], dtype=uint8),\n",
       " 50: array([0, 0, 1, 1, 0, 0, 1, 0], dtype=uint8),\n",
       " 51: array([0, 0, 1, 1, 0, 0, 1, 1], dtype=uint8),\n",
       " 52: array([0, 0, 1, 1, 0, 1, 0, 0], dtype=uint8),\n",
       " 53: array([0, 0, 1, 1, 0, 1, 0, 1], dtype=uint8),\n",
       " 54: array([0, 0, 1, 1, 0, 1, 1, 0], dtype=uint8),\n",
       " 55: array([0, 0, 1, 1, 0, 1, 1, 1], dtype=uint8),\n",
       " 56: array([0, 0, 1, 1, 1, 0, 0, 0], dtype=uint8),\n",
       " 57: array([0, 0, 1, 1, 1, 0, 0, 1], dtype=uint8),\n",
       " 58: array([0, 0, 1, 1, 1, 0, 1, 0], dtype=uint8),\n",
       " 59: array([0, 0, 1, 1, 1, 0, 1, 1], dtype=uint8),\n",
       " 60: array([0, 0, 1, 1, 1, 1, 0, 0], dtype=uint8),\n",
       " 61: array([0, 0, 1, 1, 1, 1, 0, 1], dtype=uint8),\n",
       " 62: array([0, 0, 1, 1, 1, 1, 1, 0], dtype=uint8),\n",
       " 63: array([0, 0, 1, 1, 1, 1, 1, 1], dtype=uint8),\n",
       " 64: array([0, 1, 0, 0, 0, 0, 0, 0], dtype=uint8),\n",
       " 65: array([0, 1, 0, 0, 0, 0, 0, 1], dtype=uint8),\n",
       " 66: array([0, 1, 0, 0, 0, 0, 1, 0], dtype=uint8),\n",
       " 67: array([0, 1, 0, 0, 0, 0, 1, 1], dtype=uint8),\n",
       " 68: array([0, 1, 0, 0, 0, 1, 0, 0], dtype=uint8),\n",
       " 69: array([0, 1, 0, 0, 0, 1, 0, 1], dtype=uint8),\n",
       " 70: array([0, 1, 0, 0, 0, 1, 1, 0], dtype=uint8),\n",
       " 71: array([0, 1, 0, 0, 0, 1, 1, 1], dtype=uint8),\n",
       " 72: array([0, 1, 0, 0, 1, 0, 0, 0], dtype=uint8),\n",
       " 73: array([0, 1, 0, 0, 1, 0, 0, 1], dtype=uint8),\n",
       " 74: array([0, 1, 0, 0, 1, 0, 1, 0], dtype=uint8),\n",
       " 75: array([0, 1, 0, 0, 1, 0, 1, 1], dtype=uint8),\n",
       " 76: array([0, 1, 0, 0, 1, 1, 0, 0], dtype=uint8),\n",
       " 77: array([0, 1, 0, 0, 1, 1, 0, 1], dtype=uint8),\n",
       " 78: array([0, 1, 0, 0, 1, 1, 1, 0], dtype=uint8),\n",
       " 79: array([0, 1, 0, 0, 1, 1, 1, 1], dtype=uint8),\n",
       " 80: array([0, 1, 0, 1, 0, 0, 0, 0], dtype=uint8),\n",
       " 81: array([0, 1, 0, 1, 0, 0, 0, 1], dtype=uint8),\n",
       " 82: array([0, 1, 0, 1, 0, 0, 1, 0], dtype=uint8),\n",
       " 83: array([0, 1, 0, 1, 0, 0, 1, 1], dtype=uint8),\n",
       " 84: array([0, 1, 0, 1, 0, 1, 0, 0], dtype=uint8),\n",
       " 85: array([0, 1, 0, 1, 0, 1, 0, 1], dtype=uint8),\n",
       " 86: array([0, 1, 0, 1, 0, 1, 1, 0], dtype=uint8),\n",
       " 87: array([0, 1, 0, 1, 0, 1, 1, 1], dtype=uint8),\n",
       " 88: array([0, 1, 0, 1, 1, 0, 0, 0], dtype=uint8),\n",
       " 89: array([0, 1, 0, 1, 1, 0, 0, 1], dtype=uint8),\n",
       " 90: array([0, 1, 0, 1, 1, 0, 1, 0], dtype=uint8),\n",
       " 91: array([0, 1, 0, 1, 1, 0, 1, 1], dtype=uint8),\n",
       " 92: array([0, 1, 0, 1, 1, 1, 0, 0], dtype=uint8),\n",
       " 93: array([0, 1, 0, 1, 1, 1, 0, 1], dtype=uint8),\n",
       " 94: array([0, 1, 0, 1, 1, 1, 1, 0], dtype=uint8),\n",
       " 95: array([0, 1, 0, 1, 1, 1, 1, 1], dtype=uint8),\n",
       " 96: array([0, 1, 1, 0, 0, 0, 0, 0], dtype=uint8),\n",
       " 97: array([0, 1, 1, 0, 0, 0, 0, 1], dtype=uint8),\n",
       " 98: array([0, 1, 1, 0, 0, 0, 1, 0], dtype=uint8),\n",
       " 99: array([0, 1, 1, 0, 0, 0, 1, 1], dtype=uint8),\n",
       " 100: array([0, 1, 1, 0, 0, 1, 0, 0], dtype=uint8),\n",
       " 101: array([0, 1, 1, 0, 0, 1, 0, 1], dtype=uint8),\n",
       " 102: array([0, 1, 1, 0, 0, 1, 1, 0], dtype=uint8),\n",
       " 103: array([0, 1, 1, 0, 0, 1, 1, 1], dtype=uint8),\n",
       " 104: array([0, 1, 1, 0, 1, 0, 0, 0], dtype=uint8),\n",
       " 105: array([0, 1, 1, 0, 1, 0, 0, 1], dtype=uint8),\n",
       " 106: array([0, 1, 1, 0, 1, 0, 1, 0], dtype=uint8),\n",
       " 107: array([0, 1, 1, 0, 1, 0, 1, 1], dtype=uint8),\n",
       " 108: array([0, 1, 1, 0, 1, 1, 0, 0], dtype=uint8),\n",
       " 109: array([0, 1, 1, 0, 1, 1, 0, 1], dtype=uint8),\n",
       " 110: array([0, 1, 1, 0, 1, 1, 1, 0], dtype=uint8),\n",
       " 111: array([0, 1, 1, 0, 1, 1, 1, 1], dtype=uint8),\n",
       " 112: array([0, 1, 1, 1, 0, 0, 0, 0], dtype=uint8),\n",
       " 113: array([0, 1, 1, 1, 0, 0, 0, 1], dtype=uint8),\n",
       " 114: array([0, 1, 1, 1, 0, 0, 1, 0], dtype=uint8),\n",
       " 115: array([0, 1, 1, 1, 0, 0, 1, 1], dtype=uint8),\n",
       " 116: array([0, 1, 1, 1, 0, 1, 0, 0], dtype=uint8),\n",
       " 117: array([0, 1, 1, 1, 0, 1, 0, 1], dtype=uint8),\n",
       " 118: array([0, 1, 1, 1, 0, 1, 1, 0], dtype=uint8),\n",
       " 119: array([0, 1, 1, 1, 0, 1, 1, 1], dtype=uint8),\n",
       " 120: array([0, 1, 1, 1, 1, 0, 0, 0], dtype=uint8),\n",
       " 121: array([0, 1, 1, 1, 1, 0, 0, 1], dtype=uint8),\n",
       " 122: array([0, 1, 1, 1, 1, 0, 1, 0], dtype=uint8),\n",
       " 123: array([0, 1, 1, 1, 1, 0, 1, 1], dtype=uint8),\n",
       " 124: array([0, 1, 1, 1, 1, 1, 0, 0], dtype=uint8),\n",
       " 125: array([0, 1, 1, 1, 1, 1, 0, 1], dtype=uint8),\n",
       " 126: array([0, 1, 1, 1, 1, 1, 1, 0], dtype=uint8),\n",
       " 127: array([0, 1, 1, 1, 1, 1, 1, 1], dtype=uint8),\n",
       " 128: array([1, 0, 0, 0, 0, 0, 0, 0], dtype=uint8),\n",
       " 129: array([1, 0, 0, 0, 0, 0, 0, 1], dtype=uint8),\n",
       " 130: array([1, 0, 0, 0, 0, 0, 1, 0], dtype=uint8),\n",
       " 131: array([1, 0, 0, 0, 0, 0, 1, 1], dtype=uint8),\n",
       " 132: array([1, 0, 0, 0, 0, 1, 0, 0], dtype=uint8),\n",
       " 133: array([1, 0, 0, 0, 0, 1, 0, 1], dtype=uint8),\n",
       " 134: array([1, 0, 0, 0, 0, 1, 1, 0], dtype=uint8),\n",
       " 135: array([1, 0, 0, 0, 0, 1, 1, 1], dtype=uint8),\n",
       " 136: array([1, 0, 0, 0, 1, 0, 0, 0], dtype=uint8),\n",
       " 137: array([1, 0, 0, 0, 1, 0, 0, 1], dtype=uint8),\n",
       " 138: array([1, 0, 0, 0, 1, 0, 1, 0], dtype=uint8),\n",
       " 139: array([1, 0, 0, 0, 1, 0, 1, 1], dtype=uint8),\n",
       " 140: array([1, 0, 0, 0, 1, 1, 0, 0], dtype=uint8),\n",
       " 141: array([1, 0, 0, 0, 1, 1, 0, 1], dtype=uint8),\n",
       " 142: array([1, 0, 0, 0, 1, 1, 1, 0], dtype=uint8),\n",
       " 143: array([1, 0, 0, 0, 1, 1, 1, 1], dtype=uint8),\n",
       " 144: array([1, 0, 0, 1, 0, 0, 0, 0], dtype=uint8),\n",
       " 145: array([1, 0, 0, 1, 0, 0, 0, 1], dtype=uint8),\n",
       " 146: array([1, 0, 0, 1, 0, 0, 1, 0], dtype=uint8),\n",
       " 147: array([1, 0, 0, 1, 0, 0, 1, 1], dtype=uint8),\n",
       " 148: array([1, 0, 0, 1, 0, 1, 0, 0], dtype=uint8),\n",
       " 149: array([1, 0, 0, 1, 0, 1, 0, 1], dtype=uint8),\n",
       " 150: array([1, 0, 0, 1, 0, 1, 1, 0], dtype=uint8),\n",
       " 151: array([1, 0, 0, 1, 0, 1, 1, 1], dtype=uint8),\n",
       " 152: array([1, 0, 0, 1, 1, 0, 0, 0], dtype=uint8),\n",
       " 153: array([1, 0, 0, 1, 1, 0, 0, 1], dtype=uint8),\n",
       " 154: array([1, 0, 0, 1, 1, 0, 1, 0], dtype=uint8),\n",
       " 155: array([1, 0, 0, 1, 1, 0, 1, 1], dtype=uint8),\n",
       " 156: array([1, 0, 0, 1, 1, 1, 0, 0], dtype=uint8),\n",
       " 157: array([1, 0, 0, 1, 1, 1, 0, 1], dtype=uint8),\n",
       " 158: array([1, 0, 0, 1, 1, 1, 1, 0], dtype=uint8),\n",
       " 159: array([1, 0, 0, 1, 1, 1, 1, 1], dtype=uint8),\n",
       " 160: array([1, 0, 1, 0, 0, 0, 0, 0], dtype=uint8),\n",
       " 161: array([1, 0, 1, 0, 0, 0, 0, 1], dtype=uint8),\n",
       " 162: array([1, 0, 1, 0, 0, 0, 1, 0], dtype=uint8),\n",
       " 163: array([1, 0, 1, 0, 0, 0, 1, 1], dtype=uint8),\n",
       " 164: array([1, 0, 1, 0, 0, 1, 0, 0], dtype=uint8),\n",
       " 165: array([1, 0, 1, 0, 0, 1, 0, 1], dtype=uint8),\n",
       " 166: array([1, 0, 1, 0, 0, 1, 1, 0], dtype=uint8),\n",
       " 167: array([1, 0, 1, 0, 0, 1, 1, 1], dtype=uint8),\n",
       " 168: array([1, 0, 1, 0, 1, 0, 0, 0], dtype=uint8),\n",
       " 169: array([1, 0, 1, 0, 1, 0, 0, 1], dtype=uint8),\n",
       " 170: array([1, 0, 1, 0, 1, 0, 1, 0], dtype=uint8),\n",
       " 171: array([1, 0, 1, 0, 1, 0, 1, 1], dtype=uint8),\n",
       " 172: array([1, 0, 1, 0, 1, 1, 0, 0], dtype=uint8),\n",
       " 173: array([1, 0, 1, 0, 1, 1, 0, 1], dtype=uint8),\n",
       " 174: array([1, 0, 1, 0, 1, 1, 1, 0], dtype=uint8),\n",
       " 175: array([1, 0, 1, 0, 1, 1, 1, 1], dtype=uint8),\n",
       " 176: array([1, 0, 1, 1, 0, 0, 0, 0], dtype=uint8),\n",
       " 177: array([1, 0, 1, 1, 0, 0, 0, 1], dtype=uint8),\n",
       " 178: array([1, 0, 1, 1, 0, 0, 1, 0], dtype=uint8),\n",
       " 179: array([1, 0, 1, 1, 0, 0, 1, 1], dtype=uint8),\n",
       " 180: array([1, 0, 1, 1, 0, 1, 0, 0], dtype=uint8),\n",
       " 181: array([1, 0, 1, 1, 0, 1, 0, 1], dtype=uint8),\n",
       " 182: array([1, 0, 1, 1, 0, 1, 1, 0], dtype=uint8),\n",
       " 183: array([1, 0, 1, 1, 0, 1, 1, 1], dtype=uint8),\n",
       " 184: array([1, 0, 1, 1, 1, 0, 0, 0], dtype=uint8),\n",
       " 185: array([1, 0, 1, 1, 1, 0, 0, 1], dtype=uint8),\n",
       " 186: array([1, 0, 1, 1, 1, 0, 1, 0], dtype=uint8),\n",
       " 187: array([1, 0, 1, 1, 1, 0, 1, 1], dtype=uint8),\n",
       " 188: array([1, 0, 1, 1, 1, 1, 0, 0], dtype=uint8),\n",
       " 189: array([1, 0, 1, 1, 1, 1, 0, 1], dtype=uint8),\n",
       " 190: array([1, 0, 1, 1, 1, 1, 1, 0], dtype=uint8),\n",
       " 191: array([1, 0, 1, 1, 1, 1, 1, 1], dtype=uint8),\n",
       " 192: array([1, 1, 0, 0, 0, 0, 0, 0], dtype=uint8),\n",
       " 193: array([1, 1, 0, 0, 0, 0, 0, 1], dtype=uint8),\n",
       " 194: array([1, 1, 0, 0, 0, 0, 1, 0], dtype=uint8),\n",
       " 195: array([1, 1, 0, 0, 0, 0, 1, 1], dtype=uint8),\n",
       " 196: array([1, 1, 0, 0, 0, 1, 0, 0], dtype=uint8),\n",
       " 197: array([1, 1, 0, 0, 0, 1, 0, 1], dtype=uint8),\n",
       " 198: array([1, 1, 0, 0, 0, 1, 1, 0], dtype=uint8),\n",
       " 199: array([1, 1, 0, 0, 0, 1, 1, 1], dtype=uint8),\n",
       " 200: array([1, 1, 0, 0, 1, 0, 0, 0], dtype=uint8),\n",
       " 201: array([1, 1, 0, 0, 1, 0, 0, 1], dtype=uint8),\n",
       " 202: array([1, 1, 0, 0, 1, 0, 1, 0], dtype=uint8),\n",
       " 203: array([1, 1, 0, 0, 1, 0, 1, 1], dtype=uint8),\n",
       " 204: array([1, 1, 0, 0, 1, 1, 0, 0], dtype=uint8),\n",
       " 205: array([1, 1, 0, 0, 1, 1, 0, 1], dtype=uint8),\n",
       " 206: array([1, 1, 0, 0, 1, 1, 1, 0], dtype=uint8),\n",
       " 207: array([1, 1, 0, 0, 1, 1, 1, 1], dtype=uint8),\n",
       " 208: array([1, 1, 0, 1, 0, 0, 0, 0], dtype=uint8),\n",
       " 209: array([1, 1, 0, 1, 0, 0, 0, 1], dtype=uint8),\n",
       " 210: array([1, 1, 0, 1, 0, 0, 1, 0], dtype=uint8),\n",
       " 211: array([1, 1, 0, 1, 0, 0, 1, 1], dtype=uint8),\n",
       " 212: array([1, 1, 0, 1, 0, 1, 0, 0], dtype=uint8),\n",
       " 213: array([1, 1, 0, 1, 0, 1, 0, 1], dtype=uint8),\n",
       " 214: array([1, 1, 0, 1, 0, 1, 1, 0], dtype=uint8),\n",
       " 215: array([1, 1, 0, 1, 0, 1, 1, 1], dtype=uint8),\n",
       " 216: array([1, 1, 0, 1, 1, 0, 0, 0], dtype=uint8),\n",
       " 217: array([1, 1, 0, 1, 1, 0, 0, 1], dtype=uint8),\n",
       " 218: array([1, 1, 0, 1, 1, 0, 1, 0], dtype=uint8),\n",
       " 219: array([1, 1, 0, 1, 1, 0, 1, 1], dtype=uint8),\n",
       " 220: array([1, 1, 0, 1, 1, 1, 0, 0], dtype=uint8),\n",
       " 221: array([1, 1, 0, 1, 1, 1, 0, 1], dtype=uint8),\n",
       " 222: array([1, 1, 0, 1, 1, 1, 1, 0], dtype=uint8),\n",
       " 223: array([1, 1, 0, 1, 1, 1, 1, 1], dtype=uint8),\n",
       " 224: array([1, 1, 1, 0, 0, 0, 0, 0], dtype=uint8),\n",
       " 225: array([1, 1, 1, 0, 0, 0, 0, 1], dtype=uint8),\n",
       " 226: array([1, 1, 1, 0, 0, 0, 1, 0], dtype=uint8),\n",
       " 227: array([1, 1, 1, 0, 0, 0, 1, 1], dtype=uint8),\n",
       " 228: array([1, 1, 1, 0, 0, 1, 0, 0], dtype=uint8),\n",
       " 229: array([1, 1, 1, 0, 0, 1, 0, 1], dtype=uint8),\n",
       " 230: array([1, 1, 1, 0, 0, 1, 1, 0], dtype=uint8),\n",
       " 231: array([1, 1, 1, 0, 0, 1, 1, 1], dtype=uint8),\n",
       " 232: array([1, 1, 1, 0, 1, 0, 0, 0], dtype=uint8),\n",
       " 233: array([1, 1, 1, 0, 1, 0, 0, 1], dtype=uint8),\n",
       " 234: array([1, 1, 1, 0, 1, 0, 1, 0], dtype=uint8),\n",
       " 235: array([1, 1, 1, 0, 1, 0, 1, 1], dtype=uint8),\n",
       " 236: array([1, 1, 1, 0, 1, 1, 0, 0], dtype=uint8),\n",
       " 237: array([1, 1, 1, 0, 1, 1, 0, 1], dtype=uint8),\n",
       " 238: array([1, 1, 1, 0, 1, 1, 1, 0], dtype=uint8),\n",
       " 239: array([1, 1, 1, 0, 1, 1, 1, 1], dtype=uint8),\n",
       " 240: array([1, 1, 1, 1, 0, 0, 0, 0], dtype=uint8),\n",
       " 241: array([1, 1, 1, 1, 0, 0, 0, 1], dtype=uint8),\n",
       " 242: array([1, 1, 1, 1, 0, 0, 1, 0], dtype=uint8),\n",
       " 243: array([1, 1, 1, 1, 0, 0, 1, 1], dtype=uint8),\n",
       " 244: array([1, 1, 1, 1, 0, 1, 0, 0], dtype=uint8),\n",
       " 245: array([1, 1, 1, 1, 0, 1, 0, 1], dtype=uint8),\n",
       " 246: array([1, 1, 1, 1, 0, 1, 1, 0], dtype=uint8),\n",
       " 247: array([1, 1, 1, 1, 0, 1, 1, 1], dtype=uint8),\n",
       " 248: array([1, 1, 1, 1, 1, 0, 0, 0], dtype=uint8),\n",
       " 249: array([1, 1, 1, 1, 1, 0, 0, 1], dtype=uint8),\n",
       " 250: array([1, 1, 1, 1, 1, 0, 1, 0], dtype=uint8),\n",
       " 251: array([1, 1, 1, 1, 1, 0, 1, 1], dtype=uint8),\n",
       " 252: array([1, 1, 1, 1, 1, 1, 0, 0], dtype=uint8),\n",
       " 253: array([1, 1, 1, 1, 1, 1, 0, 1], dtype=uint8),\n",
       " 254: array([1, 1, 1, 1, 1, 1, 1, 0], dtype=uint8),\n",
       " 255: array([1, 1, 1, 1, 1, 1, 1, 1], dtype=uint8)}"
      ]
     },
     "execution_count": 8,
     "metadata": {},
     "output_type": "execute_result"
    }
   ],
   "source": [
    "int2binary"
   ]
  },
  {
   "cell_type": "code",
   "execution_count": 9,
   "metadata": {
    "collapsed": true
   },
   "outputs": [],
   "source": [
    "# input variables\n",
    "alpha = 0.1\n",
    "input_dim = 2\n",
    "hidden_dim = 16\n",
    "output_dim = 1"
   ]
  },
  {
   "cell_type": "code",
   "execution_count": 10,
   "metadata": {
    "collapsed": true
   },
   "outputs": [],
   "source": [
    "#Line 28: This is the size of the hidden layer that will be storing our carry bit.\n",
    "#Notice that it is way larger than it theoretically needs to be.\n",
    "#Play with this and see how it affects the speed of convergence.\n",
    "#Do larger hidden dimensions make things train faster or slower?\n",
    "#More iterations or fewer?"
   ]
  },
  {
   "cell_type": "code",
   "execution_count": 11,
   "metadata": {},
   "outputs": [
    {
     "data": {
      "text/plain": [
       "(2L, 16L)"
      ]
     },
     "execution_count": 11,
     "metadata": {},
     "output_type": "execute_result"
    }
   ],
   "source": [
    "# initialize neural network weights\n",
    "synapse_0 = 2*np.random.random((input_dim,hidden_dim)) - 1\n",
    "synapse_0.shape"
   ]
  },
  {
   "cell_type": "code",
   "execution_count": 12,
   "metadata": {},
   "outputs": [
    {
     "data": {
      "text/plain": [
       "(16L, 1L)"
      ]
     },
     "execution_count": 12,
     "metadata": {},
     "output_type": "execute_result"
    }
   ],
   "source": [
    "synapse_1 = 2*np.random.random((hidden_dim,output_dim)) - 1\n",
    "synapse_1.shape"
   ]
  },
  {
   "cell_type": "code",
   "execution_count": 13,
   "metadata": {},
   "outputs": [
    {
     "data": {
      "text/plain": [
       "(16L, 16L)"
      ]
     },
     "execution_count": 13,
     "metadata": {},
     "output_type": "execute_result"
    }
   ],
   "source": [
    "synapse_h = 2*np.random.random((hidden_dim,hidden_dim)) - 1\n",
    "synapse_h.shape"
   ]
  },
  {
   "cell_type": "code",
   "execution_count": 14,
   "metadata": {
    "collapsed": true
   },
   "outputs": [],
   "source": [
    "#Weight updates\n",
    "synapse_0_update = np.zeros_like(synapse_0)\n",
    "synapse_1_update = np.zeros_like(synapse_1)\n",
    "synapse_h_update = np.zeros_like(synapse_h)"
   ]
  },
  {
   "cell_type": "code",
   "execution_count": null,
   "metadata": {
    "collapsed": true
   },
   "outputs": [],
   "source": [
    "#http://iamtrask.github.io/2015/11/15/anyone-can-code-lstm/"
   ]
  },
  {
   "cell_type": "code",
   "execution_count": 24,
   "metadata": {},
   "outputs": [
    {
     "name": "stdout",
     "output_type": "stream",
     "text": [
      "Error:[ 3.37562299]\n",
      "Pred:[0 0 0 0 0 0 0 0]\n",
      "True:[1 0 0 0 0 1 0 0]\n",
      "52 + 80 = 0\n",
      "------------\n",
      "Error:[ 3.90130696]\n",
      "Pred:[0 1 1 0 1 1 0 0]\n",
      "True:[0 1 0 1 1 0 0 0]\n",
      "50 + 38 = 108\n",
      "------------\n",
      "Error:[ 3.90965139]\n",
      "Pred:[0 1 1 1 1 0 1 1]\n",
      "True:[0 1 1 1 0 0 0 0]\n",
      "49 + 63 = 123\n",
      "------------\n",
      "Error:[ 3.42847558]\n",
      "Pred:[0 0 0 0 0 1 0 0]\n",
      "True:[0 0 0 1 0 1 0 1]\n",
      "19 + 2 = 4\n",
      "------------\n",
      "Error:[ 3.872716]\n",
      "Pred:[1 1 0 1 1 1 1 0]\n",
      "True:[1 0 0 1 1 1 0 0]\n",
      "107 + 49 = 222\n",
      "------------\n",
      "Error:[ 2.83750897]\n",
      "Pred:[0 1 1 1 0 1 0 0]\n",
      "True:[0 1 1 1 1 0 0 0]\n",
      "75 + 45 = 116\n",
      "------------\n",
      "Error:[ 1.27454124]\n",
      "Pred:[0 0 1 0 1 0 0 1]\n",
      "True:[0 0 1 0 1 0 0 1]\n",
      "26 + 15 = 41\n",
      "------------\n",
      "Error:[ 0.58076786]\n",
      "Pred:[0 1 1 0 1 0 1 0]\n",
      "True:[0 1 1 0 1 0 1 0]\n",
      "69 + 37 = 106\n",
      "------------\n",
      "Error:[ 0.549655]\n",
      "Pred:[0 1 0 1 0 1 1 0]\n",
      "True:[0 1 0 1 0 1 1 0]\n",
      "45 + 41 = 86\n",
      "------------\n",
      "Error:[ 0.25270277]\n",
      "Pred:[0 1 1 1 0 1 1 0]\n",
      "True:[0 1 1 1 0 1 1 0]\n",
      "54 + 64 = 118\n",
      "------------\n"
     ]
    }
   ],
   "source": [
    "# training logic\n",
    "for j in range(10000):\n",
    "    \n",
    "    # generate a simple addition problem (a + b = c)\n",
    "    a_int = np.random.randint(largest_number/2) # int version\n",
    "    a = int2binary[a_int] # binary encoding\n",
    "\n",
    "    b_int = np.random.randint(largest_number/2) # int version\n",
    "    b = int2binary[b_int] # binary encoding\n",
    "\n",
    "    # true answer\n",
    "    c_int = a_int + b_int\n",
    "    c = int2binary[c_int]\n",
    "    \n",
    "    # where we'll store our best guess (binary encoded)\n",
    "    d = np.zeros_like(c)\n",
    "\n",
    "    overallError = 0\n",
    "    \n",
    "    layer_2_deltas = list()\n",
    "    layer_1_values = list()\n",
    "    layer_1_values.append(np.zeros(hidden_dim))\n",
    "    \n",
    "    # moving along the positions in the binary encoding\n",
    "    for position in range(binary_dim):\n",
    "        \n",
    "        # generate input and output\n",
    "        X = np.array([[a[binary_dim - position - 1],b[binary_dim - position - 1]]])\n",
    "        y = np.array([[c[binary_dim - position - 1]]]).T\n",
    "\n",
    "        # hidden layer (input ~+ prev_hidden)\n",
    "        layer_1 = sigmoid(np.dot(X,synapse_0) + np.dot(layer_1_values[-1],synapse_h))\n",
    "\n",
    "        # output layer (new binary representation)\n",
    "        layer_2 = sigmoid(np.dot(layer_1,synapse_1))\n",
    "\n",
    "        # did we miss?... if so, by how much?\n",
    "        layer_2_error = y - layer_2\n",
    "        layer_2_deltas.append((layer_2_error)*sigmoid_output_to_derivative(layer_2))\n",
    "        overallError += np.abs(layer_2_error[0])\n",
    "    \n",
    "        # decode estimate so we can print it out\n",
    "        d[binary_dim - position - 1] = np.round(layer_2[0][0])\n",
    "        \n",
    "        # store hidden layer so we can use it in the next timestep\n",
    "        layer_1_values.append(copy.deepcopy(layer_1))\n",
    "    \n",
    "    future_layer_1_delta = np.zeros(hidden_dim)\n",
    "    \n",
    "    for position in range(binary_dim):\n",
    "        \n",
    "        X = np.array([[a[position],b[position]]])\n",
    "        layer_1 = layer_1_values[-position-1]\n",
    "        prev_layer_1 = layer_1_values[-position-2]\n",
    "        \n",
    "        # error at output layer\n",
    "        layer_2_delta = layer_2_deltas[-position-1]\n",
    "        # error at hidden layer\n",
    "        layer_1_delta = (future_layer_1_delta.dot(synapse_h.T) + layer_2_delta.dot(synapse_1.T)) * sigmoid_output_to_derivative(layer_1)\n",
    "\n",
    "        # let's update all our weights so we can try again\n",
    "        synapse_1_update += np.atleast_2d(layer_1).T.dot(layer_2_delta)\n",
    "        synapse_h_update += np.atleast_2d(prev_layer_1).T.dot(layer_1_delta)\n",
    "        synapse_0_update += X.T.dot(layer_1_delta)\n",
    "        \n",
    "        future_layer_1_delta = layer_1_delta\n",
    "    \n",
    "\n",
    "    synapse_0 += synapse_0_update * alpha\n",
    "    synapse_1 += synapse_1_update * alpha\n",
    "    synapse_h += synapse_h_update * alpha    \n",
    "\n",
    "    synapse_0_update *= 0\n",
    "    synapse_1_update *= 0\n",
    "    synapse_h_update *= 0\n",
    "    \n",
    "    # print out progress\n",
    "    if(j % 1000 == 0):\n",
    "        print \"Error:\" + str(overallError)\n",
    "        print \"Pred:\" + str(d)\n",
    "        print \"True:\" + str(c)\n",
    "        out = 0\n",
    "        for index,x in enumerate(reversed(d)):\n",
    "            out += x*pow(2,index)\n",
    "        print str(a_int) + \" + \" + str(b_int) + \" = \" + str(out)\n",
    "        print \"------------\"\n"
   ]
  }
 ],
 "metadata": {
  "kernelspec": {
   "display_name": "Python 3",
   "language": "python",
   "name": "python3"
  },
  "language_info": {
   "codemirror_mode": {
    "name": "ipython",
    "version": 3
   },
   "file_extension": ".py",
   "mimetype": "text/x-python",
   "name": "python",
   "nbconvert_exporter": "python",
   "pygments_lexer": "ipython3",
   "version": "3.6.1"
  }
 },
 "nbformat": 4,
 "nbformat_minor": 2
}
