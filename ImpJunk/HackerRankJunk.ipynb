{
 "cells": [
  {
   "cell_type": "code",
   "execution_count": 4,
   "metadata": {
    "collapsed": true
   },
   "outputs": [],
   "source": [
    "X = 1\n",
    "Y = 1\n",
    "Z = 1\n",
    "N = 2"
   ]
  },
  {
   "cell_type": "code",
   "execution_count": 5,
   "metadata": {
    "collapsed": true
   },
   "outputs": [],
   "source": [
    "A = []"
   ]
  },
  {
   "cell_type": "code",
   "execution_count": 10,
   "metadata": {},
   "outputs": [
    {
     "data": {
      "text/plain": [
       "[(0, 0, 0), (0, 0, 1), (0, 1, 0), (1, 0, 0), (1, 1, 1)]"
      ]
     },
     "execution_count": 10,
     "metadata": {},
     "output_type": "execute_result"
    }
   ],
   "source": [
    "[(i,j,k) for i in range(X+1) for j in range(Y+1) for k in range(Z+1) if i+j+k != N ]"
   ]
  },
  {
   "cell_type": "code",
   "execution_count": 8,
   "metadata": {},
   "outputs": [
    {
     "name": "stdout",
     "output_type": "stream",
     "text": [
      "[[0, 0, 0], [0, 0, 1], [0, 1, 0], [1, 0, 0], [1, 1, 1]]\n"
     ]
    }
   ],
   "source": [
    "print A"
   ]
  },
  {
   "cell_type": "code",
   "execution_count": 13,
   "metadata": {},
   "outputs": [
    {
     "name": "stdout",
     "output_type": "stream",
     "text": [
      "1 2 3 4 5\n"
     ]
    }
   ],
   "source": [
    "arr = map(int,raw_input().split())"
   ]
  },
  {
   "cell_type": "code",
   "execution_count": 14,
   "metadata": {},
   "outputs": [
    {
     "data": {
      "text/plain": [
       "[1, 2, 3, 4, 5]"
      ]
     },
     "execution_count": 14,
     "metadata": {},
     "output_type": "execute_result"
    }
   ],
   "source": [
    "arr"
   ]
  },
  {
   "cell_type": "code",
   "execution_count": 19,
   "metadata": {},
   "outputs": [
    {
     "name": "stdout",
     "output_type": "stream",
     "text": [
      "5\n",
      "2 3 6 6 5\n",
      "5\n"
     ]
    }
   ],
   "source": [
    "N = int(raw_input())\n",
    "arr = map(int,raw_input().split())\n",
    "big , sbig = -1000,-1000\n",
    "for i in arr:\n",
    "    if (i > big):\n",
    "        big , sbig = i ,big\n",
    "    elif (i<big and i > sbig):\n",
    "        sbig = i\n",
    "print sbig"
   ]
  },
  {
   "cell_type": "code",
   "execution_count": 25,
   "metadata": {},
   "outputs": [
    {
     "name": "stdout",
     "output_type": "stream",
     "text": [
      "5\n",
      "a\n",
      "66\n",
      "b66\n",
      "66\n",
      "rr\n",
      "77\n",
      "tt\n",
      "88\n",
      "j\n",
      "44\n",
      "[44.0, 66.0, 77.0, 88.0]\n"
     ]
    }
   ],
   "source": [
    "N = int(raw_input())\n",
    "record = [[raw_input(),float(raw_input())] for i in range(N)]\n",
    "record_sort = sorted(set(x[1] for x in record))\n",
    "print record_sort"
   ]
  },
  {
   "cell_type": "code",
   "execution_count": 35,
   "metadata": {},
   "outputs": [
    {
     "name": "stdout",
     "output_type": "stream",
     "text": [
      "5\n",
      "berry\n",
      "3\n",
      "harry\n",
      "3\n",
      "ss\n",
      "2\n",
      "f\n",
      "5\n",
      "g\n",
      "6\n",
      "berry\n",
      "harry\n"
     ]
    }
   ],
   "source": [
    "N = int(raw_input())\n",
    "record = [[raw_input(),float(raw_input())] for i in range(N)]\n",
    "record.sort(key = lambda x : (x[1],x[0]))\n",
    "record_sort = sorted(set(x[1] for x in record))\n",
    "a =  [x[0]  for x in record if x[1]==record_sort[1]]\n",
    "for i in [x[0]  for x in record if x[1]==record_sort[1]]:\n",
    "    print i\n",
    "\n"
   ]
  },
  {
   "cell_type": "code",
   "execution_count": null,
   "metadata": {
    "collapsed": true
   },
   "outputs": [],
   "source": [
    "N = int(raw_input())\n",
    "rec = {}\n",
    "for i in range(N):\n",
    "    Name=raw_input().split()\n",
    "    rec[Name[0]]=sum(map(float,Name[1:]))/3\n",
    "    \n",
    "print '%.2f' % rec[raw_input()]"
   ]
  },
  {
   "cell_type": "code",
   "execution_count": 41,
   "metadata": {},
   "outputs": [
    {
     "name": "stdout",
     "output_type": "stream",
     "text": [
      "5\n",
      "2 3 4 5 6\n"
     ]
    }
   ],
   "source": [
    "N = int(raw_input())\n",
    "Height = map(int,(raw_input().split()))\n",
    "disHeight=set(Height)"
   ]
  },
  {
   "cell_type": "code",
   "execution_count": 42,
   "metadata": {
    "collapsed": true
   },
   "outputs": [],
   "source": [
    "from __future__ import division\n",
    "average = sum(disHeight)/len(disHeight)"
   ]
  },
  {
   "cell_type": "code",
   "execution_count": 44,
   "metadata": {},
   "outputs": [
    {
     "name": "stdout",
     "output_type": "stream",
     "text": [
      "2 3 4 5 6\n"
     ]
    }
   ],
   "source": [
    "heights = [int(x) for x in raw_input().split()]"
   ]
  },
  {
   "cell_type": "code",
   "execution_count": 45,
   "metadata": {},
   "outputs": [
    {
     "name": "stdout",
     "output_type": "stream",
     "text": [
      "[2, 3, 4, 5, 6]\n",
      "[2, 3, 4, 5, 6]\n"
     ]
    }
   ],
   "source": [
    "print Height\n",
    "print heights"
   ]
  },
  {
   "cell_type": "code",
   "execution_count": 49,
   "metadata": {},
   "outputs": [
    {
     "name": "stdout",
     "output_type": "stream",
     "text": [
      "4\n",
      "2 4 5 9\n",
      "4\n",
      "2 4 11 12\n",
      "set([9, 11, 12, 5])\n"
     ]
    }
   ],
   "source": [
    "X = int(raw_input())\n",
    "M = set(map(int,raw_input().split()))\n",
    "Y = int(raw_input())\n",
    "N = set(map(int,raw_input().split()))\n",
    "\n",
    "\n",
    "Union = M.union(N)\n",
    "Intersection = M.intersection(N)\n",
    "diff = Union.difference(Intersection)\n",
    "a =list(diff)\n",
    "a.sort()\n",
    "for i in a:\n",
    "    print i"
   ]
  },
  {
   "cell_type": "code",
   "execution_count": 61,
   "metadata": {},
   "outputs": [
    {
     "ename": "TypeError",
     "evalue": "sequence item 0: expected string, int found",
     "output_type": "error",
     "traceback": [
      "\u001b[1;31m---------------------------------------------------------------------------\u001b[0m",
      "\u001b[1;31mTypeError\u001b[0m                                 Traceback (most recent call last)",
      "\u001b[1;32m<ipython-input-61-86d091a3fc1b>\u001b[0m in \u001b[0;36m<module>\u001b[1;34m()\u001b[0m\n\u001b[1;32m----> 1\u001b[1;33m \u001b[1;32mprint\u001b[0m \u001b[1;34m\"\\n\"\u001b[0m\u001b[1;33m.\u001b[0m\u001b[0mjoin\u001b[0m\u001b[1;33m(\u001b[0m\u001b[0msorted\u001b[0m\u001b[1;33m(\u001b[0m\u001b[0mlist\u001b[0m\u001b[1;33m(\u001b[0m\u001b[0mset\u001b[0m\u001b[1;33m(\u001b[0m\u001b[0mM\u001b[0m\u001b[1;33m)\u001b[0m \u001b[1;33m^\u001b[0m \u001b[0mset\u001b[0m\u001b[1;33m(\u001b[0m\u001b[0mN\u001b[0m\u001b[1;33m)\u001b[0m\u001b[1;33m)\u001b[0m\u001b[1;33m)\u001b[0m\u001b[1;33m)\u001b[0m\u001b[1;33m\u001b[0m\u001b[0m\n\u001b[0m",
      "\u001b[1;31mTypeError\u001b[0m: sequence item 0: expected string, int found"
     ]
    }
   ],
   "source": [
    "print \"\\n\".join(sorted(list(set(M) ^ set(N)),key=int))"
   ]
  },
  {
   "cell_type": "code",
   "execution_count": 62,
   "metadata": {},
   "outputs": [
    {
     "name": "stdout",
     "output_type": "stream",
     "text": [
      "3 2\n",
      "1 5 3\n",
      "3 1\n",
      "5 7\n",
      "1\n"
     ]
    }
   ],
   "source": [
    "N = set(map(int,raw_input().split()))\n",
    "i = map(int,raw_input().split())\n",
    "m = set(map(int,raw_input().split()))\n",
    "n = set(map(int,raw_input().split()))\n",
    "hapines = len([x for x in i if x in m])\n",
    "unhapines = len([x for x in i if x in n])\n",
    "final = hapines - unhapines\n",
    "print final"
   ]
  },
  {
   "cell_type": "code",
   "execution_count": null,
   "metadata": {
    "collapsed": true
   },
   "outputs": [],
   "source": [
    "N = int(raw_input())\n",
    "\n",
    "Name = [raw_input() for i in range(N)]\n",
    "Name = set(Name)\n",
    "print len(Name)"
   ]
  },
  {
   "cell_type": "code",
   "execution_count": null,
   "metadata": {
    "collapsed": true
   },
   "outputs": [],
   "source": [
    "n = input()\n",
    "s = set(map(int, raw_input().split())) \n",
    "N = int(raw_input())\n",
    "for i in range(N):\n",
    "    line = raw_input().split()\n",
    "    if(line[0]==\"pop\"):\n",
    "        s.pop()\n",
    "    elif(line[0]==\"remove\"):\n",
    "        s.remove(int(line[1]))\n",
    "    elif(line[0]==\"discard\"):\n",
    "        s.discard(int(line[1]))\n",
    "print sum(s)"
   ]
  },
  {
   "cell_type": "code",
   "execution_count": 65,
   "metadata": {},
   "outputs": [
    {
     "name": "stdout",
     "output_type": "stream",
     "text": [
      "9\n",
      "1 2 3 4 5 6 7 8 9\n",
      "9\n",
      "10 1 2 3 11 21 55 6 8\n",
      "8\n"
     ]
    }
   ],
   "source": [
    "X = int(raw_input())\n",
    "M = set(map(int,raw_input().split()))\n",
    "Y = int(raw_input())\n",
    "N = set(map(int,raw_input().split()))\n",
    "\n",
    "print len(M|N)\n",
    "print len(M.intersection(N)) #&\n",
    "print(len(M-N))\n",
    "print(len(M^N))"
   ]
  },
  {
   "cell_type": "code",
   "execution_count": null,
   "metadata": {
    "collapsed": true
   },
   "outputs": [],
   "source": [
    "a = int(raw_input())\n",
    "A = set(map(int, raw_input().split()))\n",
    "for i in range(int(raw_input())):\n",
    "    s, b = raw_input().split()\n",
    "    B = set(map(int, raw_input().split()))\n",
    "    if s == 'intersection_update':\n",
    "        A &= B\n",
    "    elif s == 'update':\n",
    "        A |= B\n",
    "    elif s == 'symmetric_difference_update':\n",
    "        A ^= B\n",
    "    else:\n",
    "        A -= B\n",
    "print sum(A) "
   ]
  },
  {
   "cell_type": "code",
   "execution_count": null,
   "metadata": {
    "collapsed": true
   },
   "outputs": [],
   "source": [
    "K = int(raw_input())\n",
    "\n",
    "#Step 1\n",
    "roomList = map(int,raw_input().split())\n",
    "\n",
    "#Step 2\n",
    "roomSet = set(roomList) \n",
    "\n",
    "#Step 3\n",
    "sumRoomSet = sum(roomSet) \n",
    "sumRoomList = sum(roomList) \n",
    "\n",
    "# Step 4\n",
    "temp = sumRoomSet * K - sumRoomList \n",
    "\n",
    "# Step 5\n",
    "answer = temp / (K - 1) \n",
    "\n",
    "# Step 6\n",
    "print answer"
   ]
  },
  {
   "cell_type": "code",
   "execution_count": 8,
   "metadata": {},
   "outputs": [
    {
     "name": "stdout",
     "output_type": "stream",
     "text": [
      "1\n",
      "1\n",
      "1 2 3 5 6\n",
      "1\n",
      "9 8 5 6 3 2 1 4 7\n",
      "True\n",
      "True\n",
      "True\n"
     ]
    }
   ],
   "source": [
    "for i in range(int(raw_input())): #More than 4 lines will result in 0 score. Blank lines won't be counted.  \n",
    "    a = int(raw_input()); A = set(raw_input().split())\n",
    "    b = int(raw_input()); B = set(raw_input().split())\n",
    "    print (A-B)==set()\n",
    "    print A<=B\n",
    "    print A.issubset(B)"
   ]
  },
  {
   "cell_type": "code",
   "execution_count": 10,
   "metadata": {},
   "outputs": [
    {
     "name": "stdout",
     "output_type": "stream",
     "text": [
      "True\n"
     ]
    }
   ],
   "source": [
    "a= 0\n",
    "a= True\n",
    "print a"
   ]
  },
  {
   "cell_type": "code",
   "execution_count": 11,
   "metadata": {},
   "outputs": [
    {
     "name": "stdout",
     "output_type": "stream",
     "text": [
      "1 2 3 4 5 6 7 8 9 10 11 12 23 45 84 78\n",
      "2\n",
      "1 2 3 4 5\n",
      "100 11 12\n"
     ]
    }
   ],
   "source": [
    "A = set(raw_input().split());\n",
    "\n",
    "aa = (map(lambda x: (A > x), [set(raw_input().split()) for i in range(int(raw_input()))])) "
   ]
  },
  {
   "cell_type": "code",
   "execution_count": 13,
   "metadata": {},
   "outputs": [
    {
     "name": "stdout",
     "output_type": "stream",
     "text": [
      "False\n"
     ]
    }
   ],
   "source": [
    "print all(aa)"
   ]
  },
  {
   "cell_type": "code",
   "execution_count": null,
   "metadata": {
    "collapsed": true
   },
   "outputs": [],
   "source": [
    "A = set(raw_input().split());\n",
    "a = 0\n",
    "#print all(map(lambda x: (A > x), [set(raw_input().split()) for i in range(int(raw_input()))])) \n",
    "for i in range(int(raw_input())):\n",
    "    B = set(raw_input().split())\n",
    "    if i == 0:\n",
    "        a = B<A\n",
    "    else:\n",
    "        a = a and (B<A)\n",
    "print a\n",
    "    "
   ]
  },
  {
   "cell_type": "code",
   "execution_count": 22,
   "metadata": {},
   "outputs": [
    {
     "name": "stdout",
     "output_type": "stream",
     "text": [
      "1+2j\n"
     ]
    }
   ],
   "source": [
    "from cmath import polar,phase\n",
    "z = complex(raw_input())"
   ]
  },
  {
   "cell_type": "code",
   "execution_count": 24,
   "metadata": {},
   "outputs": [
    {
     "name": "stdout",
     "output_type": "stream",
     "text": [
      "1.10714871779\n",
      "2.2360679775\n",
      "(2.23606797749979, 1.1071487177940904)\n"
     ]
    }
   ],
   "source": [
    "print phase(z)\n",
    "print abs(z)\n",
    "print polar(z)"
   ]
  },
  {
   "cell_type": "code",
   "execution_count": 26,
   "metadata": {},
   "outputs": [
    {
     "name": "stdout",
     "output_type": "stream",
     "text": [
      "11\n",
      "22\n",
      "27\n"
     ]
    }
   ],
   "source": [
    "import cmath\n",
    "import math\n",
    "\n",
    "AB = int(raw_input())\n",
    "BC = int(raw_input())\n",
    "\n",
    "print str(int(round(math.degrees(cmath.phase(complex(BC,AB))))))+'°'"
   ]
  },
  {
   "cell_type": "code",
   "execution_count": 30,
   "metadata": {},
   "outputs": [
    {
     "name": "stdout",
     "output_type": "stream",
     "text": [
      "6\n",
      "1\n",
      "121\n",
      "12321\n",
      "1234321\n",
      "123454321\n",
      "12345654321\n"
     ]
    }
   ],
   "source": [
    "for i in range(1,int(raw_input())+1): #More than 2 lines will result in 0 score. Do not leave a blank line also triangle\n",
    "    print ((10**i)/9)**2"
   ]
  },
  {
   "cell_type": "code",
   "execution_count": 31,
   "metadata": {},
   "outputs": [
    {
     "name": "stdout",
     "output_type": "stream",
     "text": [
      "17\n"
     ]
    }
   ],
   "source": [
    "a = 177\n",
    "b= 10\n",
    "print a/b"
   ]
  },
  {
   "cell_type": "code",
   "execution_count": null,
   "metadata": {
    "collapsed": true
   },
   "outputs": [],
   "source": [
    "import division from __future__)\n",
    "a = int(raw_input())\n",
    "b = int(raw_input())\n",
    "print a/b\n",
    "print a%b\n",
    "print divmod(a,b)"
   ]
  },
  {
   "cell_type": "code",
   "execution_count": 32,
   "metadata": {},
   "outputs": [
    {
     "data": {
      "text/plain": [
       "100"
      ]
     },
     "execution_count": 32,
     "metadata": {},
     "output_type": "execute_result"
    }
   ],
   "source": [
    "pow(10,2)"
   ]
  },
  {
   "cell_type": "code",
   "execution_count": null,
   "metadata": {
    "collapsed": true
   },
   "outputs": [],
   "source": [
    "a = float(raw_input())\n",
    "b = float(raw_input())\n",
    "m = float(raw_input())\n",
    "n = int(raw_input())\n",
    "print pow(a,b)+pow(m,n)\n",
    "print pow(a,b)\n",
    "print pow(a,b,m)"
   ]
  },
  {
   "cell_type": "code",
   "execution_count": null,
   "metadata": {
    "collapsed": true
   },
   "outputs": [],
   "source": [
    "for i in range(1,input()): #More than 2 lines will result in 0 score. Do not leave a blank line also\n",
    "    print  i * 10**i / 9"
   ]
  },
  {
   "cell_type": "code",
   "execution_count": 5,
   "metadata": {},
   "outputs": [
    {
     "name": "stdout",
     "output_type": "stream",
     "text": [
      "<table border=\"0\" cellpadding=\"0\" cellspacing=\"0\" class=\"year\">\n",
      "<tr><th colspan=\"3\" class=\"year\">2017</th></tr><tr><td><table border=\"0\" cellpadding=\"0\" cellspacing=\"0\" class=\"month\">\n",
      "<tr><th colspan=\"7\" class=\"month\">January</th></tr>\n",
      "<tr><th class=\"mon\">Mon</th><th class=\"tue\">Tue</th><th class=\"wed\">Wed</th><th class=\"thu\">Thu</th><th class=\"fri\">Fri</th><th class=\"sat\">Sat</th><th class=\"sun\">Sun</th></tr>\n",
      "<tr><td class=\"noday\">&nbsp;</td><td class=\"noday\">&nbsp;</td><td class=\"noday\">&nbsp;</td><td class=\"noday\">&nbsp;</td><td class=\"noday\">&nbsp;</td><td class=\"noday\">&nbsp;</td><td class=\"sun\">1</td></tr>\n",
      "<tr><td class=\"mon\">2</td><td class=\"tue\">3</td><td class=\"wed\">4</td><td class=\"thu\">5</td><td class=\"fri\">6</td><td class=\"sat\">7</td><td class=\"sun\">8</td></tr>\n",
      "<tr><td class=\"mon\">9</td><td class=\"tue\">10</td><td class=\"wed\">11</td><td class=\"thu\">12</td><td class=\"fri\">13</td><td class=\"sat\">14</td><td class=\"sun\">15</td></tr>\n",
      "<tr><td class=\"mon\">16</td><td class=\"tue\">17</td><td class=\"wed\">18</td><td class=\"thu\">19</td><td class=\"fri\">20</td><td class=\"sat\">21</td><td class=\"sun\">22</td></tr>\n",
      "<tr><td class=\"mon\">23</td><td class=\"tue\">24</td><td class=\"wed\">25</td><td class=\"thu\">26</td><td class=\"fri\">27</td><td class=\"sat\">28</td><td class=\"sun\">29</td></tr>\n",
      "<tr><td class=\"mon\">30</td><td class=\"tue\">31</td><td class=\"noday\">&nbsp;</td><td class=\"noday\">&nbsp;</td><td class=\"noday\">&nbsp;</td><td class=\"noday\">&nbsp;</td><td class=\"noday\">&nbsp;</td></tr>\n",
      "</table>\n",
      "</td><td><table border=\"0\" cellpadding=\"0\" cellspacing=\"0\" class=\"month\">\n",
      "<tr><th colspan=\"7\" class=\"month\">February</th></tr>\n",
      "<tr><th class=\"mon\">Mon</th><th class=\"tue\">Tue</th><th class=\"wed\">Wed</th><th class=\"thu\">Thu</th><th class=\"fri\">Fri</th><th class=\"sat\">Sat</th><th class=\"sun\">Sun</th></tr>\n",
      "<tr><td class=\"noday\">&nbsp;</td><td class=\"noday\">&nbsp;</td><td class=\"wed\">1</td><td class=\"thu\">2</td><td class=\"fri\">3</td><td class=\"sat\">4</td><td class=\"sun\">5</td></tr>\n",
      "<tr><td class=\"mon\">6</td><td class=\"tue\">7</td><td class=\"wed\">8</td><td class=\"thu\">9</td><td class=\"fri\">10</td><td class=\"sat\">11</td><td class=\"sun\">12</td></tr>\n",
      "<tr><td class=\"mon\">13</td><td class=\"tue\">14</td><td class=\"wed\">15</td><td class=\"thu\">16</td><td class=\"fri\">17</td><td class=\"sat\">18</td><td class=\"sun\">19</td></tr>\n",
      "<tr><td class=\"mon\">20</td><td class=\"tue\">21</td><td class=\"wed\">22</td><td class=\"thu\">23</td><td class=\"fri\">24</td><td class=\"sat\">25</td><td class=\"sun\">26</td></tr>\n",
      "<tr><td class=\"mon\">27</td><td class=\"tue\">28</td><td class=\"noday\">&nbsp;</td><td class=\"noday\">&nbsp;</td><td class=\"noday\">&nbsp;</td><td class=\"noday\">&nbsp;</td><td class=\"noday\">&nbsp;</td></tr>\n",
      "</table>\n",
      "</td><td><table border=\"0\" cellpadding=\"0\" cellspacing=\"0\" class=\"month\">\n",
      "<tr><th colspan=\"7\" class=\"month\">March</th></tr>\n",
      "<tr><th class=\"mon\">Mon</th><th class=\"tue\">Tue</th><th class=\"wed\">Wed</th><th class=\"thu\">Thu</th><th class=\"fri\">Fri</th><th class=\"sat\">Sat</th><th class=\"sun\">Sun</th></tr>\n",
      "<tr><td class=\"noday\">&nbsp;</td><td class=\"noday\">&nbsp;</td><td class=\"wed\">1</td><td class=\"thu\">2</td><td class=\"fri\">3</td><td class=\"sat\">4</td><td class=\"sun\">5</td></tr>\n",
      "<tr><td class=\"mon\">6</td><td class=\"tue\">7</td><td class=\"wed\">8</td><td class=\"thu\">9</td><td class=\"fri\">10</td><td class=\"sat\">11</td><td class=\"sun\">12</td></tr>\n",
      "<tr><td class=\"mon\">13</td><td class=\"tue\">14</td><td class=\"wed\">15</td><td class=\"thu\">16</td><td class=\"fri\">17</td><td class=\"sat\">18</td><td class=\"sun\">19</td></tr>\n",
      "<tr><td class=\"mon\">20</td><td class=\"tue\">21</td><td class=\"wed\">22</td><td class=\"thu\">23</td><td class=\"fri\">24</td><td class=\"sat\">25</td><td class=\"sun\">26</td></tr>\n",
      "<tr><td class=\"mon\">27</td><td class=\"tue\">28</td><td class=\"wed\">29</td><td class=\"thu\">30</td><td class=\"fri\">31</td><td class=\"noday\">&nbsp;</td><td class=\"noday\">&nbsp;</td></tr>\n",
      "</table>\n",
      "</td></tr><tr><td><table border=\"0\" cellpadding=\"0\" cellspacing=\"0\" class=\"month\">\n",
      "<tr><th colspan=\"7\" class=\"month\">April</th></tr>\n",
      "<tr><th class=\"mon\">Mon</th><th class=\"tue\">Tue</th><th class=\"wed\">Wed</th><th class=\"thu\">Thu</th><th class=\"fri\">Fri</th><th class=\"sat\">Sat</th><th class=\"sun\">Sun</th></tr>\n",
      "<tr><td class=\"noday\">&nbsp;</td><td class=\"noday\">&nbsp;</td><td class=\"noday\">&nbsp;</td><td class=\"noday\">&nbsp;</td><td class=\"noday\">&nbsp;</td><td class=\"sat\">1</td><td class=\"sun\">2</td></tr>\n",
      "<tr><td class=\"mon\">3</td><td class=\"tue\">4</td><td class=\"wed\">5</td><td class=\"thu\">6</td><td class=\"fri\">7</td><td class=\"sat\">8</td><td class=\"sun\">9</td></tr>\n",
      "<tr><td class=\"mon\">10</td><td class=\"tue\">11</td><td class=\"wed\">12</td><td class=\"thu\">13</td><td class=\"fri\">14</td><td class=\"sat\">15</td><td class=\"sun\">16</td></tr>\n",
      "<tr><td class=\"mon\">17</td><td class=\"tue\">18</td><td class=\"wed\">19</td><td class=\"thu\">20</td><td class=\"fri\">21</td><td class=\"sat\">22</td><td class=\"sun\">23</td></tr>\n",
      "<tr><td class=\"mon\">24</td><td class=\"tue\">25</td><td class=\"wed\">26</td><td class=\"thu\">27</td><td class=\"fri\">28</td><td class=\"sat\">29</td><td class=\"sun\">30</td></tr>\n",
      "</table>\n",
      "</td><td><table border=\"0\" cellpadding=\"0\" cellspacing=\"0\" class=\"month\">\n",
      "<tr><th colspan=\"7\" class=\"month\">May</th></tr>\n",
      "<tr><th class=\"mon\">Mon</th><th class=\"tue\">Tue</th><th class=\"wed\">Wed</th><th class=\"thu\">Thu</th><th class=\"fri\">Fri</th><th class=\"sat\">Sat</th><th class=\"sun\">Sun</th></tr>\n",
      "<tr><td class=\"mon\">1</td><td class=\"tue\">2</td><td class=\"wed\">3</td><td class=\"thu\">4</td><td class=\"fri\">5</td><td class=\"sat\">6</td><td class=\"sun\">7</td></tr>\n",
      "<tr><td class=\"mon\">8</td><td class=\"tue\">9</td><td class=\"wed\">10</td><td class=\"thu\">11</td><td class=\"fri\">12</td><td class=\"sat\">13</td><td class=\"sun\">14</td></tr>\n",
      "<tr><td class=\"mon\">15</td><td class=\"tue\">16</td><td class=\"wed\">17</td><td class=\"thu\">18</td><td class=\"fri\">19</td><td class=\"sat\">20</td><td class=\"sun\">21</td></tr>\n",
      "<tr><td class=\"mon\">22</td><td class=\"tue\">23</td><td class=\"wed\">24</td><td class=\"thu\">25</td><td class=\"fri\">26</td><td class=\"sat\">27</td><td class=\"sun\">28</td></tr>\n",
      "<tr><td class=\"mon\">29</td><td class=\"tue\">30</td><td class=\"wed\">31</td><td class=\"noday\">&nbsp;</td><td class=\"noday\">&nbsp;</td><td class=\"noday\">&nbsp;</td><td class=\"noday\">&nbsp;</td></tr>\n",
      "</table>\n",
      "</td><td><table border=\"0\" cellpadding=\"0\" cellspacing=\"0\" class=\"month\">\n",
      "<tr><th colspan=\"7\" class=\"month\">June</th></tr>\n",
      "<tr><th class=\"mon\">Mon</th><th class=\"tue\">Tue</th><th class=\"wed\">Wed</th><th class=\"thu\">Thu</th><th class=\"fri\">Fri</th><th class=\"sat\">Sat</th><th class=\"sun\">Sun</th></tr>\n",
      "<tr><td class=\"noday\">&nbsp;</td><td class=\"noday\">&nbsp;</td><td class=\"noday\">&nbsp;</td><td class=\"thu\">1</td><td class=\"fri\">2</td><td class=\"sat\">3</td><td class=\"sun\">4</td></tr>\n",
      "<tr><td class=\"mon\">5</td><td class=\"tue\">6</td><td class=\"wed\">7</td><td class=\"thu\">8</td><td class=\"fri\">9</td><td class=\"sat\">10</td><td class=\"sun\">11</td></tr>\n",
      "<tr><td class=\"mon\">12</td><td class=\"tue\">13</td><td class=\"wed\">14</td><td class=\"thu\">15</td><td class=\"fri\">16</td><td class=\"sat\">17</td><td class=\"sun\">18</td></tr>\n",
      "<tr><td class=\"mon\">19</td><td class=\"tue\">20</td><td class=\"wed\">21</td><td class=\"thu\">22</td><td class=\"fri\">23</td><td class=\"sat\">24</td><td class=\"sun\">25</td></tr>\n",
      "<tr><td class=\"mon\">26</td><td class=\"tue\">27</td><td class=\"wed\">28</td><td class=\"thu\">29</td><td class=\"fri\">30</td><td class=\"noday\">&nbsp;</td><td class=\"noday\">&nbsp;</td></tr>\n",
      "</table>\n",
      "</td></tr><tr><td><table border=\"0\" cellpadding=\"0\" cellspacing=\"0\" class=\"month\">\n",
      "<tr><th colspan=\"7\" class=\"month\">July</th></tr>\n",
      "<tr><th class=\"mon\">Mon</th><th class=\"tue\">Tue</th><th class=\"wed\">Wed</th><th class=\"thu\">Thu</th><th class=\"fri\">Fri</th><th class=\"sat\">Sat</th><th class=\"sun\">Sun</th></tr>\n",
      "<tr><td class=\"noday\">&nbsp;</td><td class=\"noday\">&nbsp;</td><td class=\"noday\">&nbsp;</td><td class=\"noday\">&nbsp;</td><td class=\"noday\">&nbsp;</td><td class=\"sat\">1</td><td class=\"sun\">2</td></tr>\n",
      "<tr><td class=\"mon\">3</td><td class=\"tue\">4</td><td class=\"wed\">5</td><td class=\"thu\">6</td><td class=\"fri\">7</td><td class=\"sat\">8</td><td class=\"sun\">9</td></tr>\n",
      "<tr><td class=\"mon\">10</td><td class=\"tue\">11</td><td class=\"wed\">12</td><td class=\"thu\">13</td><td class=\"fri\">14</td><td class=\"sat\">15</td><td class=\"sun\">16</td></tr>\n",
      "<tr><td class=\"mon\">17</td><td class=\"tue\">18</td><td class=\"wed\">19</td><td class=\"thu\">20</td><td class=\"fri\">21</td><td class=\"sat\">22</td><td class=\"sun\">23</td></tr>\n",
      "<tr><td class=\"mon\">24</td><td class=\"tue\">25</td><td class=\"wed\">26</td><td class=\"thu\">27</td><td class=\"fri\">28</td><td class=\"sat\">29</td><td class=\"sun\">30</td></tr>\n",
      "<tr><td class=\"mon\">31</td><td class=\"noday\">&nbsp;</td><td class=\"noday\">&nbsp;</td><td class=\"noday\">&nbsp;</td><td class=\"noday\">&nbsp;</td><td class=\"noday\">&nbsp;</td><td class=\"noday\">&nbsp;</td></tr>\n",
      "</table>\n",
      "</td><td><table border=\"0\" cellpadding=\"0\" cellspacing=\"0\" class=\"month\">\n",
      "<tr><th colspan=\"7\" class=\"month\">August</th></tr>\n",
      "<tr><th class=\"mon\">Mon</th><th class=\"tue\">Tue</th><th class=\"wed\">Wed</th><th class=\"thu\">Thu</th><th class=\"fri\">Fri</th><th class=\"sat\">Sat</th><th class=\"sun\">Sun</th></tr>\n",
      "<tr><td class=\"noday\">&nbsp;</td><td class=\"tue\">1</td><td class=\"wed\">2</td><td class=\"thu\">3</td><td class=\"fri\">4</td><td class=\"sat\">5</td><td class=\"sun\">6</td></tr>\n",
      "<tr><td class=\"mon\">7</td><td class=\"tue\">8</td><td class=\"wed\">9</td><td class=\"thu\">10</td><td class=\"fri\">11</td><td class=\"sat\">12</td><td class=\"sun\">13</td></tr>\n",
      "<tr><td class=\"mon\">14</td><td class=\"tue\">15</td><td class=\"wed\">16</td><td class=\"thu\">17</td><td class=\"fri\">18</td><td class=\"sat\">19</td><td class=\"sun\">20</td></tr>\n",
      "<tr><td class=\"mon\">21</td><td class=\"tue\">22</td><td class=\"wed\">23</td><td class=\"thu\">24</td><td class=\"fri\">25</td><td class=\"sat\">26</td><td class=\"sun\">27</td></tr>\n",
      "<tr><td class=\"mon\">28</td><td class=\"tue\">29</td><td class=\"wed\">30</td><td class=\"thu\">31</td><td class=\"noday\">&nbsp;</td><td class=\"noday\">&nbsp;</td><td class=\"noday\">&nbsp;</td></tr>\n",
      "</table>\n",
      "</td><td><table border=\"0\" cellpadding=\"0\" cellspacing=\"0\" class=\"month\">\n",
      "<tr><th colspan=\"7\" class=\"month\">September</th></tr>\n",
      "<tr><th class=\"mon\">Mon</th><th class=\"tue\">Tue</th><th class=\"wed\">Wed</th><th class=\"thu\">Thu</th><th class=\"fri\">Fri</th><th class=\"sat\">Sat</th><th class=\"sun\">Sun</th></tr>\n",
      "<tr><td class=\"noday\">&nbsp;</td><td class=\"noday\">&nbsp;</td><td class=\"noday\">&nbsp;</td><td class=\"noday\">&nbsp;</td><td class=\"fri\">1</td><td class=\"sat\">2</td><td class=\"sun\">3</td></tr>\n",
      "<tr><td class=\"mon\">4</td><td class=\"tue\">5</td><td class=\"wed\">6</td><td class=\"thu\">7</td><td class=\"fri\">8</td><td class=\"sat\">9</td><td class=\"sun\">10</td></tr>\n",
      "<tr><td class=\"mon\">11</td><td class=\"tue\">12</td><td class=\"wed\">13</td><td class=\"thu\">14</td><td class=\"fri\">15</td><td class=\"sat\">16</td><td class=\"sun\">17</td></tr>\n",
      "<tr><td class=\"mon\">18</td><td class=\"tue\">19</td><td class=\"wed\">20</td><td class=\"thu\">21</td><td class=\"fri\">22</td><td class=\"sat\">23</td><td class=\"sun\">24</td></tr>\n",
      "<tr><td class=\"mon\">25</td><td class=\"tue\">26</td><td class=\"wed\">27</td><td class=\"thu\">28</td><td class=\"fri\">29</td><td class=\"sat\">30</td><td class=\"noday\">&nbsp;</td></tr>\n",
      "</table>\n",
      "</td></tr><tr><td><table border=\"0\" cellpadding=\"0\" cellspacing=\"0\" class=\"month\">\n",
      "<tr><th colspan=\"7\" class=\"month\">October</th></tr>\n",
      "<tr><th class=\"mon\">Mon</th><th class=\"tue\">Tue</th><th class=\"wed\">Wed</th><th class=\"thu\">Thu</th><th class=\"fri\">Fri</th><th class=\"sat\">Sat</th><th class=\"sun\">Sun</th></tr>\n",
      "<tr><td class=\"noday\">&nbsp;</td><td class=\"noday\">&nbsp;</td><td class=\"noday\">&nbsp;</td><td class=\"noday\">&nbsp;</td><td class=\"noday\">&nbsp;</td><td class=\"noday\">&nbsp;</td><td class=\"sun\">1</td></tr>\n",
      "<tr><td class=\"mon\">2</td><td class=\"tue\">3</td><td class=\"wed\">4</td><td class=\"thu\">5</td><td class=\"fri\">6</td><td class=\"sat\">7</td><td class=\"sun\">8</td></tr>\n",
      "<tr><td class=\"mon\">9</td><td class=\"tue\">10</td><td class=\"wed\">11</td><td class=\"thu\">12</td><td class=\"fri\">13</td><td class=\"sat\">14</td><td class=\"sun\">15</td></tr>\n",
      "<tr><td class=\"mon\">16</td><td class=\"tue\">17</td><td class=\"wed\">18</td><td class=\"thu\">19</td><td class=\"fri\">20</td><td class=\"sat\">21</td><td class=\"sun\">22</td></tr>\n",
      "<tr><td class=\"mon\">23</td><td class=\"tue\">24</td><td class=\"wed\">25</td><td class=\"thu\">26</td><td class=\"fri\">27</td><td class=\"sat\">28</td><td class=\"sun\">29</td></tr>\n",
      "<tr><td class=\"mon\">30</td><td class=\"tue\">31</td><td class=\"noday\">&nbsp;</td><td class=\"noday\">&nbsp;</td><td class=\"noday\">&nbsp;</td><td class=\"noday\">&nbsp;</td><td class=\"noday\">&nbsp;</td></tr>\n",
      "</table>\n",
      "</td><td><table border=\"0\" cellpadding=\"0\" cellspacing=\"0\" class=\"month\">\n",
      "<tr><th colspan=\"7\" class=\"month\">November</th></tr>\n",
      "<tr><th class=\"mon\">Mon</th><th class=\"tue\">Tue</th><th class=\"wed\">Wed</th><th class=\"thu\">Thu</th><th class=\"fri\">Fri</th><th class=\"sat\">Sat</th><th class=\"sun\">Sun</th></tr>\n",
      "<tr><td class=\"noday\">&nbsp;</td><td class=\"noday\">&nbsp;</td><td class=\"wed\">1</td><td class=\"thu\">2</td><td class=\"fri\">3</td><td class=\"sat\">4</td><td class=\"sun\">5</td></tr>\n",
      "<tr><td class=\"mon\">6</td><td class=\"tue\">7</td><td class=\"wed\">8</td><td class=\"thu\">9</td><td class=\"fri\">10</td><td class=\"sat\">11</td><td class=\"sun\">12</td></tr>\n",
      "<tr><td class=\"mon\">13</td><td class=\"tue\">14</td><td class=\"wed\">15</td><td class=\"thu\">16</td><td class=\"fri\">17</td><td class=\"sat\">18</td><td class=\"sun\">19</td></tr>\n",
      "<tr><td class=\"mon\">20</td><td class=\"tue\">21</td><td class=\"wed\">22</td><td class=\"thu\">23</td><td class=\"fri\">24</td><td class=\"sat\">25</td><td class=\"sun\">26</td></tr>\n",
      "<tr><td class=\"mon\">27</td><td class=\"tue\">28</td><td class=\"wed\">29</td><td class=\"thu\">30</td><td class=\"noday\">&nbsp;</td><td class=\"noday\">&nbsp;</td><td class=\"noday\">&nbsp;</td></tr>\n",
      "</table>\n",
      "</td><td><table border=\"0\" cellpadding=\"0\" cellspacing=\"0\" class=\"month\">\n",
      "<tr><th colspan=\"7\" class=\"month\">December</th></tr>\n",
      "<tr><th class=\"mon\">Mon</th><th class=\"tue\">Tue</th><th class=\"wed\">Wed</th><th class=\"thu\">Thu</th><th class=\"fri\">Fri</th><th class=\"sat\">Sat</th><th class=\"sun\">Sun</th></tr>\n",
      "<tr><td class=\"noday\">&nbsp;</td><td class=\"noday\">&nbsp;</td><td class=\"noday\">&nbsp;</td><td class=\"noday\">&nbsp;</td><td class=\"fri\">1</td><td class=\"sat\">2</td><td class=\"sun\">3</td></tr>\n",
      "<tr><td class=\"mon\">4</td><td class=\"tue\">5</td><td class=\"wed\">6</td><td class=\"thu\">7</td><td class=\"fri\">8</td><td class=\"sat\">9</td><td class=\"sun\">10</td></tr>\n",
      "<tr><td class=\"mon\">11</td><td class=\"tue\">12</td><td class=\"wed\">13</td><td class=\"thu\">14</td><td class=\"fri\">15</td><td class=\"sat\">16</td><td class=\"sun\">17</td></tr>\n",
      "<tr><td class=\"mon\">18</td><td class=\"tue\">19</td><td class=\"wed\">20</td><td class=\"thu\">21</td><td class=\"fri\">22</td><td class=\"sat\">23</td><td class=\"sun\">24</td></tr>\n",
      "<tr><td class=\"mon\">25</td><td class=\"tue\">26</td><td class=\"wed\">27</td><td class=\"thu\">28</td><td class=\"fri\">29</td><td class=\"sat\">30</td><td class=\"sun\">31</td></tr>\n",
      "</table>\n",
      "</td></tr></table>\n"
     ]
    }
   ],
   "source": [
    "print calendar.HTMLCalendar(firstweekday=7).formatyear(2017)"
   ]
  },
  {
   "cell_type": "code",
   "execution_count": 25,
   "metadata": {},
   "outputs": [
    {
     "name": "stdout",
     "output_type": "stream",
     "text": [
      "\n",
      "January\n",
      "February\n",
      "March\n",
      "April\n",
      "May\n",
      "June\n",
      "July\n",
      "August\n",
      "September\n",
      "October\n",
      "November\n",
      "December\n",
      "\n",
      "Jan\n",
      "Feb\n",
      "Mar\n",
      "Apr\n",
      "May\n",
      "Jun\n",
      "Jul\n",
      "Aug\n",
      "Sep\n",
      "Oct\n",
      "Nov\n",
      "Dec\n"
     ]
    },
    {
     "data": {
      "text/plain": [
       "[[1, 2, 3, 4, 5, 6, 7],\n",
       " [8, 9, 10, 11, 12, 13, 14],\n",
       " [15, 16, 17, 18, 19, 20, 21],\n",
       " [22, 23, 24, 25, 26, 27, 28],\n",
       " [29, 30, 31, 0, 0, 0, 0]]"
      ]
     },
     "execution_count": 25,
     "metadata": {},
     "output_type": "execute_result"
    }
   ],
   "source": [
    "c = calendar.TextCalendar(firstweekday=7)\n",
    "#for i in c.itermonthdates(2013,8):\n",
    "#    print i\n",
    "#for i in c.itermonthdays(2017,1):\n",
    "#    print i\n",
    "for i in calendar.month_name:\n",
    "    print i\n",
    "for i in calendar.month_abbr:\n",
    "    print i\n",
    "calendar.monthcalendar(2016,8)"
   ]
  },
  {
   "cell_type": "code",
   "execution_count": 30,
   "metadata": {},
   "outputs": [
    {
     "name": "stdout",
     "output_type": "stream",
     "text": [
      "    August 2016\n",
      "Mo Tu We Th Fr Sa Su\n",
      " 1  2  3  4  5  6  7\n",
      " 8  9 10 11 12 13 14\n",
      "15 16 17 18 19 20 21\n",
      "22 23 24 25 26 27 28\n",
      "29 30 31\n",
      "\n",
      "Friday\n"
     ]
    }
   ],
   "source": [
    "print calendar.TextCalendar(firstweekday=7).formatmonth(2016,8,0,0)\n",
    "print calendar.day_name[calendar.FRIDAY]"
   ]
  },
  {
   "cell_type": "code",
   "execution_count": 4,
   "metadata": {},
   "outputs": [
    {
     "name": "stdout",
     "output_type": "stream",
     "text": [
      "                                  2017\n",
      "\n",
      "      January                   February                   March\n",
      "Mo Tu We Th Fr Sa Su      Mo Tu We Th Fr Sa Su      Mo Tu We Th Fr Sa Su\n",
      "                   1             1  2  3  4  5             1  2  3  4  5\n",
      " 2  3  4  5  6  7  8       6  7  8  9 10 11 12       6  7  8  9 10 11 12\n",
      " 9 10 11 12 13 14 15      13 14 15 16 17 18 19      13 14 15 16 17 18 19\n",
      "16 17 18 19 20 21 22      20 21 22 23 24 25 26      20 21 22 23 24 25 26\n",
      "23 24 25 26 27 28 29      27 28                     27 28 29 30 31\n",
      "30 31\n",
      "\n",
      "       April                      May                       June\n",
      "Mo Tu We Th Fr Sa Su      Mo Tu We Th Fr Sa Su      Mo Tu We Th Fr Sa Su\n",
      "                1  2       1  2  3  4  5  6  7                1  2  3  4\n",
      " 3  4  5  6  7  8  9       8  9 10 11 12 13 14       5  6  7  8  9 10 11\n",
      "10 11 12 13 14 15 16      15 16 17 18 19 20 21      12 13 14 15 16 17 18\n",
      "17 18 19 20 21 22 23      22 23 24 25 26 27 28      19 20 21 22 23 24 25\n",
      "24 25 26 27 28 29 30      29 30 31                  26 27 28 29 30\n",
      "\n",
      "        July                     August                  September\n",
      "Mo Tu We Th Fr Sa Su      Mo Tu We Th Fr Sa Su      Mo Tu We Th Fr Sa Su\n",
      "                1  2          1  2  3  4  5  6                   1  2  3\n",
      " 3  4  5  6  7  8  9       7  8  9 10 11 12 13       4  5  6  7  8  9 10\n",
      "10 11 12 13 14 15 16      14 15 16 17 18 19 20      11 12 13 14 15 16 17\n",
      "17 18 19 20 21 22 23      21 22 23 24 25 26 27      18 19 20 21 22 23 24\n",
      "24 25 26 27 28 29 30      28 29 30 31               25 26 27 28 29 30\n",
      "31\n",
      "\n",
      "      October                   November                  December\n",
      "Mo Tu We Th Fr Sa Su      Mo Tu We Th Fr Sa Su      Mo Tu We Th Fr Sa Su\n",
      "                   1             1  2  3  4  5                   1  2  3\n",
      " 2  3  4  5  6  7  8       6  7  8  9 10 11 12       4  5  6  7  8  9 10\n",
      " 9 10 11 12 13 14 15      13 14 15 16 17 18 19      11 12 13 14 15 16 17\n",
      "16 17 18 19 20 21 22      20 21 22 23 24 25 26      18 19 20 21 22 23 24\n",
      "23 24 25 26 27 28 29      27 28 29 30               25 26 27 28 29 30 31\n",
      "30 31\n",
      "\n"
     ]
    }
   ],
   "source": [
    "import calendar\n",
    "print calendar.TextCalendar(firstweekday=7).formatyear(2017)"
   ]
  },
  {
   "cell_type": "code",
   "execution_count": 46,
   "metadata": {},
   "outputs": [
    {
     "data": {
      "text/plain": [
       "2"
      ]
     },
     "execution_count": 46,
     "metadata": {},
     "output_type": "execute_result"
    }
   ],
   "source": [
    "calendar.weekday(2015,8,5)"
   ]
  },
  {
   "cell_type": "code",
   "execution_count": 45,
   "metadata": {},
   "outputs": [
    {
     "name": "stdout",
     "output_type": "stream",
     "text": [
      "Object `date.date` not found.\n"
     ]
    }
   ],
   "source": [
    "import calendar\n",
    "day = {0:'MONDAY', 1:'TUESDAY', 2:'WEDNESDAY', 3:'THURSDAY', 4:'FRIDAY', 5:'SATURDAY', 6:'SUNDAY'}\n",
    "\n",
    "m,d,y = map(int,raw_input().split())\n",
    "print day[calendar.weekday(y,m,d)]"
   ]
  },
  {
   "cell_type": "code",
   "execution_count": 54,
   "metadata": {},
   "outputs": [
    {
     "name": "stdout",
     "output_type": "stream",
     "text": [
      "Sun 10 May 2015 13:54:36 -0700\n"
     ]
    },
    {
     "ename": "SyntaxError",
     "evalue": "invalid syntax (<string>, line 1)",
     "output_type": "error",
     "traceback": [
      "\u001b[1;36m  File \u001b[1;32m\"<string>\"\u001b[1;36m, line \u001b[1;32m1\u001b[0m\n\u001b[1;33m    Sun 10 May 2015 13:54:36 -0700\u001b[0m\n\u001b[1;37m         ^\u001b[0m\n\u001b[1;31mSyntaxError\u001b[0m\u001b[1;31m:\u001b[0m invalid syntax\n"
     ]
    }
   ],
   "source": [
    "#python 3\n",
    "from datetime import datetime\n",
    "for i in range(int(input())):\n",
    "    t1 = datetime.strptime(input(), '%a %d %b %Y %H:%M:%S %z')\n",
    "    t2 = datetime.strptime(input(), '%a %d %b %Y %H:%M:%S %z')\n",
    "    print(abs(int((t1-t2).total_seconds())))"
   ]
  },
  {
   "cell_type": "code",
   "execution_count": null,
   "metadata": {
    "collapsed": true
   },
   "outputs": [],
   "source": []
  },
  {
   "cell_type": "code",
   "execution_count": 57,
   "metadata": {},
   "outputs": [
    {
     "ename": "ValueError",
     "evalue": "'z' is a bad directive in format '%a %d %b %Y %H:%M:%S %z'",
     "output_type": "error",
     "traceback": [
      "\u001b[1;31m---------------------------------------------------------------------------\u001b[0m",
      "\u001b[1;31mValueError\u001b[0m                                Traceback (most recent call last)",
      "\u001b[1;32m<ipython-input-57-a4bea3edb310>\u001b[0m in \u001b[0;36m<module>\u001b[1;34m()\u001b[0m\n\u001b[0;32m      1\u001b[0m \u001b[1;32mimport\u001b[0m \u001b[0msys\u001b[0m\u001b[1;33m\u001b[0m\u001b[0m\n\u001b[0;32m      2\u001b[0m \u001b[0mstdin\u001b[0m \u001b[1;33m=\u001b[0m \u001b[0msys\u001b[0m\u001b[1;33m.\u001b[0m\u001b[0mstdin\u001b[0m\u001b[1;33m\u001b[0m\u001b[0m\n\u001b[1;32m----> 3\u001b[1;33m \u001b[0mdt1\u001b[0m \u001b[1;33m=\u001b[0m \u001b[0mdatetime\u001b[0m\u001b[1;33m.\u001b[0m\u001b[0mstrptime\u001b[0m\u001b[1;33m(\u001b[0m\u001b[0mstdin\u001b[0m\u001b[1;33m.\u001b[0m\u001b[0mreadline\u001b[0m\u001b[1;33m(\u001b[0m\u001b[1;33m)\u001b[0m\u001b[1;33m.\u001b[0m\u001b[0mrstrip\u001b[0m\u001b[1;33m(\u001b[0m\u001b[1;33m)\u001b[0m\u001b[1;33m,\u001b[0m \u001b[1;34m'%a %d %b %Y %H:%M:%S %z'\u001b[0m\u001b[1;33m)\u001b[0m\u001b[1;33m\u001b[0m\u001b[0m\n\u001b[0m",
      "\u001b[1;32mC:\\Users\\siddh\\Anaconda2\\lib\\_strptime.pyc\u001b[0m in \u001b[0;36m_strptime\u001b[1;34m(data_string, format)\u001b[0m\n\u001b[0;32m    322\u001b[0m                 \u001b[1;32mdel\u001b[0m \u001b[0merr\u001b[0m\u001b[1;33m\u001b[0m\u001b[0m\n\u001b[0;32m    323\u001b[0m                 raise ValueError(\"'%s' is a bad directive in format '%s'\" %\n\u001b[1;32m--> 324\u001b[1;33m                                     (bad_directive, format))\n\u001b[0m\u001b[0;32m    325\u001b[0m             \u001b[1;31m# IndexError only occurs when the format string is \"%\"\u001b[0m\u001b[1;33m\u001b[0m\u001b[1;33m\u001b[0m\u001b[0m\n\u001b[0;32m    326\u001b[0m             \u001b[1;32mexcept\u001b[0m \u001b[0mIndexError\u001b[0m\u001b[1;33m:\u001b[0m\u001b[1;33m\u001b[0m\u001b[0m\n",
      "\u001b[1;31mValueError\u001b[0m: 'z' is a bad directive in format '%a %d %b %Y %H:%M:%S %z'"
     ]
    }
   ],
   "source": [
    "import sys\n",
    "stdin = sys.stdin\n",
    "dt1 = datetime.strptime(stdin.readline().rstrip(), '%a %d %b %Y %H:%M:%S %z')"
   ]
  },
  {
   "cell_type": "code",
   "execution_count": 58,
   "metadata": {},
   "outputs": [
    {
     "name": "stdout",
     "output_type": "stream",
     "text": [
      "1\n",
      "Sun 10 May 2015 13:54:36 -0700\n",
      "Sun 10 May 2015 13:54:36 +0000\n",
      "25200\n"
     ]
    }
   ],
   "source": [
    "import time, datetime\n",
    "\n",
    "def getDate(mydate):\n",
    "    offset = mydate[-5:]\n",
    "    myhours = offset[1:3]\n",
    "    myminutes = offset[-2:]\n",
    "    delta = datetime.timedelta(hours=int(myhours),minutes=int(myminutes))\n",
    "    t = datetime.datetime.strptime(mydate[:-6], \"%a %d %b %Y %H:%M:%S\")\n",
    "    sign = mydate[-5]\n",
    "    if sign==\"+\":\n",
    "        t -= delta\n",
    "    else:\n",
    "        t+=delta\n",
    "    return t\n",
    "\n",
    "for t in xrange(int(input())):\n",
    "    T1 = raw_input()\n",
    "    T2 = raw_input()\n",
    "    d1 = getDate(T1)\n",
    "    d2 = getDate(T2)\n",
    "    print int(abs(time.mktime(d1.timetuple())-time.mktime(d2.timetuple())))"
   ]
  },
  {
   "cell_type": "code",
   "execution_count": 63,
   "metadata": {},
   "outputs": [
    {
     "name": "stdout",
     "output_type": "stream",
     "text": [
      "[(1, 6, 7), (2, 5, 8), (3, 4, 9)]\n"
     ]
    }
   ],
   "source": [
    "A = [1,2,3]\n",
    "B = [6,5,4]\n",
    "C = [7,8,9]\n",
    "X = [A] + [B] + [C]\n",
    "print zip(*X)"
   ]
  },
  {
   "cell_type": "code",
   "execution_count": 68,
   "metadata": {},
   "outputs": [
    {
     "name": "stdout",
     "output_type": "stream",
     "text": [
      "5 3\n",
      "89 90 78 93 80\n",
      "90 91 85 88 86\n",
      "91 92 83 89 90.5\n"
     ]
    }
   ],
   "source": [
    "N = map(int,raw_input().split())\n",
    "a =[]\n",
    "for i in range(N[1]):\n",
    "    marks = map(float,raw_input().split())\n",
    "    a.append(marks)\n",
    "zipped = zip(*a)\n",
    "avg =[sum(i)/N[1] for i in zipped]\n",
    "for i in avg:\n",
    "    print i"
   ]
  },
  {
   "cell_type": "code",
   "execution_count": 73,
   "metadata": {},
   "outputs": [
    {
     "name": "stdout",
     "output_type": "stream",
     "text": [
      "90.0\n",
      "91.0\n",
      "82.0\n",
      "90.0\n",
      "85.5\n"
     ]
    }
   ],
   "source": [
    "for i in avg:\n",
    "    print i"
   ]
  },
  {
   "cell_type": "code",
   "execution_count": 72,
   "metadata": {},
   "outputs": [
    {
     "ename": "SyntaxError",
     "evalue": "invalid syntax (<ipython-input-72-144752741d38>, line 1)",
     "output_type": "error",
     "traceback": [
      "\u001b[1;36m  File \u001b[1;32m\"<ipython-input-72-144752741d38>\"\u001b[1;36m, line \u001b[1;32m1\u001b[0m\n\u001b[1;33m    [print j for j in [sum(i)/3 for i in zipped]]\u001b[0m\n\u001b[1;37m         ^\u001b[0m\n\u001b[1;31mSyntaxError\u001b[0m\u001b[1;31m:\u001b[0m invalid syntax\n"
     ]
    }
   ],
   "source": [
    "x,k = map(int, raw_input().split())\n",
    "print input() == k"
   ]
  },
  {
   "cell_type": "code",
   "execution_count": 76,
   "metadata": {},
   "outputs": [
    {
     "name": "stdout",
     "output_type": "stream",
     "text": [
      "3 3\n",
      "10 2 5\n",
      "7 1 0\n",
      "6 5 9\n",
      "1\n",
      "[7, 1, 0]\n",
      "[10, 2, 5]\n",
      "[6, 5, 9]\n"
     ]
    }
   ],
   "source": [
    "N,M = map(int,raw_input().split())\n",
    "a= []\n",
    "for i in range(M):\n",
    "    a.append(map(int,raw_input().split()))\n",
    "k = int(raw_input())\n",
    "a.sort(key = lambda x : x[k])\n",
    "for i in a:\n",
    "    print i"
   ]
  },
  {
   "cell_type": "code",
   "execution_count": null,
   "metadata": {
    "collapsed": true
   },
   "outputs": [],
   "source": [
    "print \"\\n\".join(map(lambda x: \" \".join(map(str, x)), sorted(lst, key = lambda x: x[k]))) "
   ]
  },
  {
   "cell_type": "code",
   "execution_count": 77,
   "metadata": {},
   "outputs": [
    {
     "name": "stdout",
     "output_type": "stream",
     "text": [
      "7 1 0\n"
     ]
    }
   ],
   "source": [
    "d =[7, 1, 0]\n",
    "print \" \".join(map(str, d))"
   ]
  },
  {
   "cell_type": "code",
   "execution_count": null,
   "metadata": {
    "collapsed": true
   },
   "outputs": [],
   "source": [
    "N = int(raw_input())\n",
    "Lis = map(int,raw_input().split())\n",
    "print all([all([type(x)==int and x>0 for x in Lis]),any([str(n) == str(n)[::-1] for n in Lis])])"
   ]
  },
  {
   "cell_type": "code",
   "execution_count": null,
   "metadata": {
    "collapsed": true
   },
   "outputs": [],
   "source": [
    "from __future__ import print_function\n",
    "\n",
    "def func(x): \n",
    "    if x.isalpha():\n",
    "        if x.isupper():\n",
    "            return (ord(x)-ord('A'))\n",
    "        else:\n",
    "            return (ord(x)-ord('a'))-30\n",
    "    else:\n",
    "        if int(x) % 2 == 0:\n",
    "            return 60+int(x)\n",
    "        else:\n",
    "            return 30+int(x)\n",
    "\n",
    "s = raw_input()        \n",
    "map(lambda x: print(x,end=''),(sorted(s,key = func)))"
   ]
  },
  {
   "cell_type": "markdown",
   "metadata": {},
   "source": [
    "#Concept\n",
    "\n",
    "##The map() function applies a function to every member of an iterable and returns the result. It takes two parameters: first, the function that is to be applied and secondly, the iterables. \n",
    "Let's say you are given a list of names, and you have to print a list that contains the length of each name.\n",
    "\n",
    "print (list(map(len, ['Tina', 'Raj', 'Tom'])))  \n",
    "[4, 3, 3]  \n",
    "\n",
    "##Lambda is a single expression anonymous function often used as an inline function. In simple words, it is a function that has only one line in its body. It proves very handy in functional and GUI programming.\n",
    "\n",
    "sum = lambda a, b, c: a + b + c\n",
    "sum(1, 2, 3)\n",
    "6"
   ]
  },
  {
   "cell_type": "code",
   "execution_count": 84,
   "metadata": {},
   "outputs": [
    {
     "name": "stdout",
     "output_type": "stream",
     "text": [
      "1\n",
      "[0]\n"
     ]
    }
   ],
   "source": [
    "N =int(raw_input())\n",
    "A=[0,1]\n",
    "for i in range(2,N): A.append(A[i-1]+A[i-2])        \n",
    "print map(lambda a: a*a*a,A)[:N]"
   ]
  },
  {
   "cell_type": "markdown",
   "metadata": {},
   "source": [
    "Concept\n",
    "\n",
    "A filter takes a function returning True or False and applies it to a sequence, returning a list of only those members of the sequence where the function returned True. A Lambda function can be used with filters. \n",
    "\n",
    "Let's say you have to make a list of the squares of integers from  to  (both included).\n",
    "\n",
    " l = list(range(10))\n",
    " l = list(map(lambda x:x*x, l))\n",
    "Now, you only require those elements that are greater than  but less than .\n",
    "\n",
    " l = list(filter(lambda x: x > 10 and x < 80, l))"
   ]
  },
  {
   "cell_type": "code",
   "execution_count": 88,
   "metadata": {},
   "outputs": [
    {
     "name": "stdout",
     "output_type": "stream",
     "text": [
      "3\n",
      "c@g.com\n",
      "g@g.com\n",
      "3#@g.com\n"
     ]
    }
   ],
   "source": [
    "N = int(raw_input())\n",
    "a = [raw_input() for i in range(N)]\n",
    "import re\n",
    "ss = sorted(filter(lambda x: re.search(r'^[\\w\\d-]+@[A-Za-z0-9]+\\.\\w?\\w?\\w$',x),a))"
   ]
  },
  {
   "cell_type": "code",
   "execution_count": 89,
   "metadata": {},
   "outputs": [
    {
     "data": {
      "text/plain": [
       "['c@g.com', 'g@g.com']"
      ]
     },
     "execution_count": 89,
     "metadata": {},
     "output_type": "execute_result"
    }
   ],
   "source": [
    "ss"
   ]
  },
  {
   "cell_type": "markdown",
   "metadata": {},
   "source": [
    "collections.Counter() \n",
    "A counter is a container that stores elements as dictionary keys, and their counts are stored as dictionary values.\n",
    "\n",
    "Sample Code\n",
    "\n",
    " from collections import Counter\n",
    "\n",
    " myList = [1,1,2,3,4,5,3,2,3,4,2,1,2,3]\n",
    " print Counter(myList)\n",
    "Counter({2: 4, 3: 4, 1: 3, 4: 2, 5: 1})\n",
    "\n",
    " print Counter(myList).items()\n",
    "[(1, 3), (2, 4), (3, 4), (4, 2), (5, 1)]\n",
    "\n",
    " print Counter(myList).keys()\n",
    "[1, 2, 3, 4, 5]\n",
    " \n",
    " print Counter(myList).values()\n",
    "[3, 4, 4, 2, 1]"
   ]
  },
  {
   "cell_type": "code",
   "execution_count": null,
   "metadata": {
    "collapsed": true
   },
   "outputs": [],
   "source": [
    "from collections import Counter\n",
    "X = input()\n",
    "S = Counter(map(int,raw_input().split()))\n",
    "N = input()\n",
    "earnings = 0\n",
    "for customer in range(N):\n",
    "    size, x_i = map(int,raw_input().split())\n",
    "    if size in S and S[size] > 0:\n",
    "        S[size] -= 1\n",
    "        earnings += x_i\n",
    "            \n",
    "print earnings "
   ]
  },
  {
   "cell_type": "markdown",
   "metadata": {},
   "source": [
    "The defaultdict tool is a container in the collections class of Python. It's similar to the usual dictionary (dict) container, but it has one difference: The value fields' data type is specified upon initialization. \n",
    "For example:\n",
    "\n",
    "from collections import defaultdict\n",
    "\n",
    "d = defaultdict(list)\n",
    "\n",
    "d['python'].append(\"awesome\")\n",
    "\n",
    "d['something-else'].append(\"not relevant\")\n",
    "\n",
    "d['python'].append(\"language\")\n",
    "\n",
    "for i in d.items():\n",
    "    print i\n",
    "    \n",
    "This prints:\n",
    "\n",
    "('python', ['awesome', 'language'])\n",
    "\n",
    "('something-else', ['not relevant'])"
   ]
  },
  {
   "cell_type": "code",
   "execution_count": null,
   "metadata": {
    "collapsed": true
   },
   "outputs": [],
   "source": [
    "from collections import defaultdict\n",
    "d = defaultdict(list)\n",
    "n,m=map(int,raw_input().strip().split(' '))\n",
    "for i in xrange(1,n+1):\n",
    "    s=raw_input().strip()\n",
    "    d[s].append(i)\n",
    "for i in xrange(m):\n",
    "    s=raw_input().strip()\n",
    "    if d[s]!=[]:\n",
    "        print \" \".join(map(str,d[s]))\n",
    "    else:\n",
    "        print \"-1\"\n",
    "    "
   ]
  },
  {
   "cell_type": "markdown",
   "metadata": {},
   "source": [
    "collections.namedtuple()\n",
    "\n",
    "Basically, namedtuples are easy to create, lightweight object types. \n",
    "They turn tuples into convenient containers for simple tasks. \n",
    "With namedtuples, you don’t have to use integer indices for accessing members of a tuple.\n",
    "\n",
    "Example\n",
    "\n",
    "Code 01\n",
    "\n",
    " from collections import namedtuple\n",
    " \n",
    " Point = namedtuple('Point','x,y')\n",
    " \n",
    " pt1 = Point(1,2)\n",
    " \n",
    " pt2 = Point(3,4)\n",
    " \n",
    " dot_product = ( pt1.x * pt2.x ) +( pt1.y * pt2.y )\n",
    " \n",
    " print dot_product\n",
    "\n",
    "11\n",
    "Code 02\n",
    "\n",
    " from collections import namedtuple\n",
    " \n",
    " Car = namedtuple('Car','Price Mileage Colour Class')\n",
    " \n",
    " xyz = Car(Price = 100000, Mileage = 30, Colour = 'Cyan', Class = 'Y')\n",
    " \n",
    " print xyz\n",
    "\n",
    "Car(Price=100000, Mileage=30, Colour='Cyan', Class='Y')\n",
    "\n",
    "print xyz.Class\n",
    "\n",
    "Y"
   ]
  },
  {
   "cell_type": "code",
   "execution_count": null,
   "metadata": {
    "collapsed": true
   },
   "outputs": [],
   "source": [
    "from collections import namedtuple\n",
    "N = int(input());student = namedtuple('student',input().strip().split())\n",
    "print(sum(float(student(*input().strip().split()).MARKS) for _ in range(N))/N)"
   ]
  },
  {
   "cell_type": "code",
   "execution_count": 94,
   "metadata": {},
   "outputs": [
    {
     "name": "stdout",
     "output_type": "stream",
     "text": [
      "1\n",
      "APPLE JUICE 10\n"
     ]
    }
   ],
   "source": [
    "for i in range(int(raw_input())):\n",
    "    name,space,price = raw_input().rpartition(' ')"
   ]
  },
  {
   "cell_type": "code",
   "execution_count": 95,
   "metadata": {},
   "outputs": [
    {
     "data": {
      "text/plain": [
       "'APPLE JUICE'"
      ]
     },
     "execution_count": 95,
     "metadata": {},
     "output_type": "execute_result"
    }
   ],
   "source": [
    "from collections import OrderedDict\n",
    "my_order = OrderedDict()\n",
    "for i in range(int(raw_input())):\n",
    "    name,space,price = raw_input().rpartition(' ')\n",
    "    if name not in my_order:\n",
    "        my_order[name] = int(price)\n",
    "    else:\n",
    "        my_order[name] += int(price)\n",
    "for item_name, net_price in my_order.items():\n",
    "    print item_name,net_price"
   ]
  },
  {
   "cell_type": "code",
   "execution_count": null,
   "metadata": {
    "collapsed": true
   },
   "outputs": [],
   "source": [
    "from collections import OrderedDict\n",
    "\n",
    "d=OrderedDict()\n",
    "n=int(input())\n",
    "for i in range(n):\n",
    "    s=input()\n",
    "    if s in d.keys():\n",
    "        d[s]+=1\n",
    "    else:\n",
    "        d[s]=1\n",
    "print(len(d.keys()))\n",
    "print(' '.join([str(d[k]) for k in d.keys()]))"
   ]
  },
  {
   "cell_type": "code",
   "execution_count": null,
   "metadata": {
    "collapsed": true
   },
   "outputs": [],
   "source": []
  },
  {
   "cell_type": "markdown",
   "metadata": {},
   "source": [
    "Sample Input\n",
    "\n",
    "aabbbccde\n",
    "Sample Output\n",
    "\n",
    "b 3\n",
    "a 2\n",
    "c 2\n",
    "\n",
    "from collections import Counter\n",
    "\n",
    "for letter, counts in sorted(Counter(raw_input()).most_common(),key = lambda x:(-x[1],x[0]))[:3]:\n",
    "    print letter, counts"
   ]
  },
  {
   "cell_type": "code",
   "execution_count": 4,
   "metadata": {},
   "outputs": [
    {
     "name": "stdout",
     "output_type": "stream",
     "text": [
      "[['g', 'a', 'n', 'd', 'u'], ['b', 'h', 'a', 'd', 'w', 'e'], ['t', 'e', 'r', 'i'], ['m', 'a', 'a'], ['k', 'i']]\n"
     ]
    }
   ],
   "source": [
    "a = \"gandu bhadwe teri maa ki\"\n",
    "print [list(i) for i in a.split()]"
   ]
  },
  {
   "cell_type": "code",
   "execution_count": null,
   "metadata": {
    "collapsed": true
   },
   "outputs": [],
   "source": [
    "import string\n",
    "print string.swapcase(raw_input())"
   ]
  },
  {
   "cell_type": "code",
   "execution_count": 5,
   "metadata": {},
   "outputs": [
    {
     "name": "stdout",
     "output_type": "stream",
     "text": [
      "gandu33bhadwe33teri33maa33ki\n"
     ]
    }
   ],
   "source": [
    "print \"33\".join(a.split())"
   ]
  },
  {
   "cell_type": "code",
   "execution_count": 6,
   "metadata": {},
   "outputs": [
    {
     "name": "stdout",
     "output_type": "stream",
     "text": [
      "sdasddadasdadasdaawwff\n"
     ]
    }
   ],
   "source": [
    "b =\"dadasd\"\n",
    "c = \"aawwff\"\n",
    "print \"sdasd\"+b+\"adasd\"+c"
   ]
  },
  {
   "cell_type": "code",
   "execution_count": 7,
   "metadata": {},
   "outputs": [
    {
     "name": "stdout",
     "output_type": "stream",
     "text": [
      "gandu\n",
      "bhadwe\n",
      "Hello gandu bhadwe! You just delved into python\n"
     ]
    }
   ],
   "source": [
    "a = raw_input()\n",
    "b= raw_input()\n",
    "print \"Hello \"+a+\" \"+b+\"! You just delved into python\""
   ]
  },
  {
   "cell_type": "code",
   "execution_count": 8,
   "metadata": {},
   "outputs": [
    {
     "name": "stdout",
     "output_type": "stream",
     "text": [
      "Gandu\n",
      "Bhadwe\n",
      "Hello Gandu Bhadwe! You just delved into python.\n"
     ]
    }
   ],
   "source": [
    "a = raw_input()\n",
    "b = raw_input()\n",
    "print \"Hello %s %s! You just delved into python.\" %(a, b)"
   ]
  },
  {
   "cell_type": "raw",
   "metadata": {},
   "source": [
    "We have seen that lists are mutable (they can be changed), and tuples are immutable (they cannot be changed).\n",
    "\n",
    "Let's try to understand this with an example.\n",
    "\n",
    "You are given an immutable string, and you want to make changes to it.\n",
    "\n",
    "Example\n",
    "\n",
    ">>> string = \"abracadabra\"\n",
    "You can access an index by:\n",
    "\n",
    ">>> print string[5]\n",
    "a\n",
    "What if you would like to assign a value?\n",
    "\n",
    ">>> string[5] = 'k' \n",
    "Traceback (most recent call last):\n",
    "  File \"<stdin>\", line 1, in <module>\n",
    "TypeError: 'str' object does not support item assignment\n",
    "How would you approach this?\n",
    "\n",
    "One solution is to convert the string to a list and then change the value.\n",
    "Example\n",
    "\n",
    ">>> string = \"abracadabra\"\n",
    ">>> l = list(string)\n",
    ">>> l[5] = 'k'\n",
    ">>> string = ''.join(l)\n",
    ">>> print string\n",
    "abrackdabra\n",
    "Another approach is to slice the string and join it back.\n",
    "Example\n",
    "\n",
    ">>> string = string[:5] + \"k\" + string[6:]\n",
    ">>> print string\n",
    "abrackdabra"
   ]
  },
  {
   "cell_type": "code",
   "execution_count": 10,
   "metadata": {},
   "outputs": [
    {
     "name": "stdout",
     "output_type": "stream",
     "text": [
      "asdafadas\n",
      "5 k\n",
      "asdafkdas\n"
     ]
    }
   ],
   "source": [
    "string  = raw_input()\n",
    "L,K=raw_input().split()\n",
    "L = int(L)\n",
    "string = string[:L] + K + string[L+1:]\n",
    "print string"
   ]
  },
  {
   "cell_type": "code",
   "execution_count": null,
   "metadata": {
    "collapsed": true
   },
   "outputs": [],
   "source": [
    "A = raw_input().strip()\n",
    "x = raw_input().strip()\n",
    "\n",
    "count = 0\n",
    "for i in range(len(A) - len(x) + 1):\n",
    "    if A[i:i+len(x)] == x:\n",
    "        count += 1\n",
    "print count"
   ]
  },
  {
   "cell_type": "code",
   "execution_count": null,
   "metadata": {
    "collapsed": true
   },
   "outputs": [],
   "source": [
    "import re\n",
    "a = raw_input()\n",
    "b = raw_input()\n",
    "match = re.findall('(?='+b+')',a)\n",
    "print len(match)"
   ]
  },
  {
   "cell_type": "raw",
   "metadata": {},
   "source": [
    "Python has built-in string validation methods for basic data. It can check if a string is composed of alphabetical characters, alphanumeric characters, digits, etc.\n",
    "\n",
    "str.isalnum() \n",
    "This method checks if all the characters of a string are alphanumeric (a-z, A-Z and 0-9).\n",
    "\n",
    ">>> print 'ab123'.isalnum()\n",
    "True\n",
    ">>> print 'ab123#'.isalnum()\n",
    "False\n",
    "str.isalpha() \n",
    "This method checks if all the characters of a string are alphabetical (a-z and A-Z).\n",
    "\n",
    ">>> print 'abcD'.isalpha()\n",
    "True\n",
    ">>> print 'abcd1'.isalpha()\n",
    "False\n",
    "str.isdigit() \n",
    "This method checks if all the characters of a string are digits (0-9).\n",
    "\n",
    ">>> print '1234'.isdigit()\n",
    "True\n",
    ">>> print '123edsd'.isdigit()\n",
    "False\n",
    "str.islower()\n",
    "\n",
    "This method checks if all the characters of a string are lowercase characters (a-z).\n",
    "\n",
    ">>> print 'abcd123#'.islower()\n",
    "True\n",
    ">>> print 'Abcd123#'.islower()\n",
    "False\n",
    "str.isupper() \n",
    "This method checks if all the characters of a string are uppercase characters (A-Z).\n",
    "\n",
    ">>> print 'ABCD123#'.isupper()\n",
    "True\n",
    ">>> print 'Abcd123#'.isupper()\n",
    "False"
   ]
  },
  {
   "cell_type": "code",
   "execution_count": null,
   "metadata": {
    "collapsed": true
   },
   "outputs": [],
   "source": [
    "S = raw_input()\n",
    "print any([char.isalnum() for char in S])\n",
    "print any([char.isalpha() for char in S])\n",
    "print any([char.isdigit() for char in S])\n",
    "print any([char.islower() for char in S])\n",
    "print any([char.isupper() for char in S])"
   ]
  },
  {
   "cell_type": "raw",
   "metadata": {},
   "source": [
    "In Python, a string of text can be aligned left, right and center.\n",
    "\n",
    ".ljust(width)\n",
    "\n",
    "This method returns a left aligned string of length width.\n",
    "\n",
    ">>> width = 20\n",
    ">>> print 'HackerRank'.ljust(width,'-')\n",
    "HackerRank----------  \n",
    ".center(width)\n",
    "\n",
    "This method returns a centered string of length width.\n",
    "\n",
    ">>> width = 20\n",
    ">>> print 'HackerRank'.center(width,'-')\n",
    "-----HackerRank-----\n",
    ".rjust(width)\n",
    "\n",
    "This method returns a right aligned string of length width.\n",
    "\n",
    ">>> width = 20\n",
    ">>> print 'HackerRank'.rjust(width,'-')\n",
    "----------HackerRank"
   ]
  },
  {
   "cell_type": "raw",
   "metadata": {},
   "source": [
    "    H    \n",
    "   HHH   \n",
    "  HHHHH  \n",
    " HHHHHHH \n",
    "HHHHHHHHH\n",
    "  HHHHH               HHHHH             \n",
    "  HHHHH               HHHHH             \n",
    "  HHHHH               HHHHH             \n",
    "  HHHHH               HHHHH             \n",
    "  HHHHH               HHHHH             \n",
    "  HHHHH               HHHHH             \n",
    "  HHHHHHHHHHHHHHHHHHHHHHHHH   \n",
    "  HHHHHHHHHHHHHHHHHHHHHHHHH   \n",
    "  HHHHHHHHHHHHHHHHHHHHHHHHH   \n",
    "  HHHHH               HHHHH             \n",
    "  HHHHH               HHHHH             \n",
    "  HHHHH               HHHHH             \n",
    "  HHHHH               HHHHH             \n",
    "  HHHHH               HHHHH             \n",
    "  HHHHH               HHHHH             \n",
    "                    HHHHHHHHH \n",
    "                     HHHHHHH  \n",
    "                      HHHHH   \n",
    "                       HHH    \n",
    "                        H "
   ]
  },
  {
   "cell_type": "code",
   "execution_count": null,
   "metadata": {
    "collapsed": true
   },
   "outputs": [],
   "source": [
    "# Replace all ______ with rjust, ljust or center.\n",
    "\n",
    "thickness = int(raw_input())  # This must me an odd number\n",
    "c = 'H'\n",
    "\n",
    "# Top Cone\n",
    "for i in range(thickness):\n",
    "    print((c * i).rjust(thickness - 1) + c + (c * i).ljust(thickness - 1))\n",
    "\n",
    "# Top Pillars\n",
    "for i in range(thickness + 1):\n",
    "    print((c * thickness).center(thickness * 2) +\n",
    "          (c * thickness).center(thickness * 6))\n",
    "\n",
    "# Middle Belt\n",
    "for i in range((thickness + 1) / 2):\n",
    "    print((c * thickness * 5).center(thickness * 6))\n",
    "\n",
    "# Bottom Pillars\n",
    "for i in range(thickness + 1):\n",
    "    print((c * thickness).center(thickness * 2) +\n",
    "          (c * thickness).center(thickness * 6))\n",
    "\n",
    "# Bottom Cone\n",
    "for i in range(thickness):\n",
    "    print(((c * (thickness - i - 1)).rjust(thickness) + c +\n",
    "          (c * (thickness - i - 1)).ljust(thickness)).rjust(thickness * 6))"
   ]
  },
  {
   "cell_type": "raw",
   "metadata": {},
   "source": [
    "Textwrap\n",
    "\n",
    "The textwrap module provides two convenient functions: wrap() and fill().\n",
    "\n",
    "textwrap.wrap() \n",
    "The wrap() function wraps a single paragraph in text (a string) so that every line is width characters long at most. \n",
    "It returns a list of output lines.\n",
    "\n",
    ">>> import textwrap\n",
    ">>> string = \"This is a very very very very very long string.\"\n",
    ">>> print textwrap.wrap(string,8)\n",
    "['This is', 'a very', 'very', 'very', 'very', 'very', 'long', 'string.'] \n",
    "textwrap.fill() \n",
    "The fill() function wraps a single paragraph in text and returns a single string containing the wrapped paragraph.\n",
    "\n",
    ">>> import textwrap\n",
    ">>> string = \"This is a very very very very very long string.\"\n",
    ">>> print textwrap.fill(string,8)\n",
    "This is\n",
    "a very\n",
    "very\n",
    "very\n",
    "very\n",
    "very\n",
    "long\n",
    "string."
   ]
  },
  {
   "cell_type": "code",
   "execution_count": null,
   "metadata": {
    "collapsed": true
   },
   "outputs": [],
   "source": [
    "import textwrap\n",
    "S = raw_input()\n",
    "w = input()\n",
    "print textwrap.fill(S,w)"
   ]
  },
  {
   "cell_type": "raw",
   "metadata": {},
   "source": [
    "------------.|.------------\n",
    "---------.|..|..|.---------\n",
    "------.|..|..|..|..|.------\n",
    "---.|..|..|..|..|..|..|.---\n",
    "----------WELCOME----------\n",
    "---.|..|..|..|..|..|..|.---\n",
    "------.|..|..|..|..|.------\n",
    "---------.|..|..|.---------\n",
    "------------.|.------------"
   ]
  },
  {
   "cell_type": "code",
   "execution_count": null,
   "metadata": {
    "collapsed": true
   },
   "outputs": [],
   "source": [
    "N,M = map(int,raw_input().split())\n",
    "for i in xrange(1, N, 2): \n",
    "    print ( str('.|.')*i ).center(M, '-')\n",
    "print str('WELCOME').center(M, '-')\n",
    "for i in xrange(N-2, -1, -2): \n",
    "    print ( str('.|.')*i ).center(M, '-')"
   ]
  },
  {
   "cell_type": "raw",
   "metadata": {},
   "source": [
    "Sample Input\n",
    "\n",
    "17\n",
    "Sample Output\n",
    "\n",
    "    1     1     1     1\n",
    "    2     2     2    10\n",
    "    3     3     3    11\n",
    "    4     4     4   100\n",
    "    5     5     5   101\n",
    "    6     6     6   110\n",
    "    7     7     7   111\n",
    "    8    10     8  1000\n",
    "    9    11     9  1001\n",
    "   10    12     A  1010\n",
    "   11    13     B  1011\n",
    "   12    14     C  1100\n",
    "   13    15     D  1101\n",
    "   14    16     E  1110\n",
    "   15    17     F  1111\n",
    "   16    20    10 10000\n",
    "   17    21    11 10001   "
   ]
  },
  {
   "cell_type": "code",
   "execution_count": null,
   "metadata": {
    "collapsed": true
   },
   "outputs": [],
   "source": [
    "def fun(N):\n",
    "    width = len(bin(N)) - 2\n",
    "    for i in range(1,N+1):\n",
    "        print \"{0:{width}d} {0:{width}o} {0:{width}X} {0:{width}b}\".format(i,width = width)\n",
    "\n",
    "n = input()\n",
    "fun(n)"
   ]
  },
  {
   "cell_type": "raw",
   "metadata": {},
   "source": [
    "--------e--------\n",
    "------e-d-e------\n",
    "----e-d-c-d-e----\n",
    "--e-d-c-b-c-d-e--\n",
    "e-d-c-b-a-b-c-d-e\n",
    "--e-d-c-b-c-d-e--\n",
    "----e-d-c-d-e----\n",
    "------e-d-e------\n",
    "--------e--------"
   ]
  },
  {
   "cell_type": "code",
   "execution_count": null,
   "metadata": {
    "collapsed": true
   },
   "outputs": [],
   "source": [
    "n = int(raw_input())\n",
    "for i in range(n):\n",
    "    s = \"-\".join(chr(ord('a')+n-j-1) for j in range(i+1))\n",
    "    print((s+s[::-1][1:]).center(n*4-3, '-'))\n",
    "\n",
    "for i in range(n-1):\n",
    "    s = \"-\".join(chr(ord('a')+n-j-1) for j in range(n-i-1))\n",
    "    print((s+s[::-1][1:]).center(n*4-3, '-'))"
   ]
  },
  {
   "cell_type": "code",
   "execution_count": 12,
   "metadata": {},
   "outputs": [
    {
     "name": "stdout",
     "output_type": "stream",
     "text": [
      "hello world\n",
      "Hello World\n"
     ]
    }
   ],
   "source": [
    "S = raw_input().split()\n",
    "N=[]\n",
    "for n in S:\n",
    "    N.append(str.upper(n[0])+n[1:])\n",
    "print \" \".join(N)"
   ]
  },
  {
   "cell_type": "code",
   "execution_count": 15,
   "metadata": {},
   "outputs": [
    {
     "name": "stdout",
     "output_type": "stream",
     "text": [
      "hello world\n",
      "Hello World\n"
     ]
    }
   ],
   "source": [
    "print ' '.join(word.capitalize() for word in raw_input().split(' '))"
   ]
  },
  {
   "cell_type": "code",
   "execution_count": 16,
   "metadata": {},
   "outputs": [
    {
     "name": "stdout",
     "output_type": "stream",
     "text": [
      "Banana\n",
      "Stuart 21\n"
     ]
    }
   ],
   "source": [
    "S = raw_input().strip()\n",
    "S_length = len(S)\n",
    "player1, player2 = 0,0\n",
    "\n",
    "for i in xrange(S_length):\n",
    "    if S[i] in \"AEIOU\":\n",
    "        player1 += S_length - i\n",
    "    else:\n",
    "        player2 += S_length - i        \n",
    "        \n",
    "if player1 > player2:\n",
    "    print \"Kevin\", player1\n",
    "elif player1 < player2:\n",
    "    print \"Stuart\", player2\n",
    "else:\n",
    "    print \"Draw\""
   ]
  },
  {
   "cell_type": "raw",
   "metadata": {},
   "source": [
    "The basic algorithm for solving this challenge is as follows:\n",
    "Divide string  into  subsegments of length .\n",
    "Save the subsegment as variable . For each :\n",
    "Create a variable, , and initialize it to the empty string.\n",
    "Iterate over the characters in  and append each character to  that does not already exist in .\n",
    "After iterating through all the characters in , print the value of .\n",
    "\n",
    "\n",
    "Sample Input\n",
    "\n",
    "AABCAAADA\n",
    "3   \n",
    "Sample Output\n",
    "\n",
    "AB\n",
    "CA\n",
    "AD"
   ]
  },
  {
   "cell_type": "code",
   "execution_count": null,
   "metadata": {
    "collapsed": true
   },
   "outputs": [],
   "source": [
    "s = raw_input()\n",
    "k = input()\n",
    "chunks = len(s)/k\n",
    "\n",
    "for index in xrange(chunks):\n",
    "    merge = \"\"\n",
    "    T = s[index*k : (index+1)*k]\n",
    "    for ch in T:\n",
    "        if ch not in merge:\n",
    "            merge += ch\n",
    "    print merge"
   ]
  },
  {
   "cell_type": "raw",
   "metadata": {},
   "source": [
    "itertools.product()\n",
    "\n",
    "This tool computes the cartesian product of input iterables. \n",
    "It is equivalent to nested for-loops. \n",
    "For example, product(A, B) returns the same as ((x,y) for x in A for y in B).\n",
    "\n",
    "Sample Code\n",
    "\n",
    ">>> from itertools import product\n",
    ">>>\n",
    ">>> print list(product([1,2,3],repeat = 2))\n",
    "[(1, 1), (1, 2), (1, 3), (2, 1), (2, 2), (2, 3), (3, 1), (3, 2), (3, 3)]\n",
    ">>>\n",
    ">>> print list(product([1,2,3],[3,4]))\n",
    "[(1, 3), (1, 4), (2, 3), (2, 4), (3, 3), (3, 4)]\n",
    ">>>\n",
    ">>> A = [[1,2,3],[3,4,5]]\n",
    ">>> print list(product(*A))\n",
    "[(1, 3), (1, 4), (1, 5), (2, 3), (2, 4), (2, 5), (3, 3), (3, 4), (3, 5)]\n",
    ">>>\n",
    ">>> B = [[1,2,3],[3,4,5],[7,8]]\n",
    ">>> print list(product(*B))\n",
    "[(1, 3, 7), (1, 3, 8), (1, 4, 7), (1, 4, 8), (1, 5, 7), (1, 5, 8), (2, 3, 7), (2, 3, 8), (2, 4, 7), (2, 4, 8), (2, 5, 7), (2, 5, 8), (3, 3, 7), (3, 3, 8), (3, 4, 7), (3, 4, 8), (3, 5, 7), (3, 5, 8)]"
   ]
  },
  {
   "cell_type": "code",
   "execution_count": 7,
   "metadata": {},
   "outputs": [
    {
     "name": "stdout",
     "output_type": "stream",
     "text": [
      "1 2\n",
      "3 4\n",
      "(1, 3) (1, 4) (2, 3) (2, 4)\n"
     ]
    }
   ],
   "source": [
    "A = map(int,raw_input().split())\n",
    "B = map(int,raw_input().split())\n",
    "from itertools import product\n",
    "print \" \".join(str(i) for i in list(product(A,B)))"
   ]
  },
  {
   "cell_type": "code",
   "execution_count": null,
   "metadata": {
    "collapsed": true
   },
   "outputs": [],
   "source": [
    "from itertools import product\n",
    "\n",
    "A = map(int,input().split())\n",
    "B = map(int,input().split())\n",
    "\n",
    "for item in product(A,B):\n",
    "    print(item,end=' ')"
   ]
  },
  {
   "cell_type": "raw",
   "metadata": {},
   "source": [
    "itertools.permutations(iterable[, r])\n",
    "\n",
    "This tool returns successive  length permutations of elements in an iterable.\n",
    "\n",
    "If  is not specified or is None, then  defaults to the length of the iterable, and all possible full length permutations are generated.\n",
    "\n",
    "Permutations are printed in a lexicographic sorted order. So, if the input iterable is sorted, the permutation tuples will be produced in a sorted order.\n",
    "\n",
    "Sample Code\n",
    "\n",
    ">>> from itertools import permutations\n",
    ">>> print permutations(['1','2','3'])\n",
    "<itertools.permutations object at 0x02A45210>\n",
    ">>> \n",
    ">>> print list(permutations(['1','2','3']))\n",
    "[('1', '2', '3'), ('1', '3', '2'), ('2', '1', '3'), ('2', '3', '1'), ('3', '1', '2'), ('3', '2', '1')]\n",
    ">>> \n",
    ">>> print list(permutations(['1','2','3'],2))\n",
    "[('1', '2'), ('1', '3'), ('2', '1'), ('2', '3'), ('3', '1'), ('3', '2')]\n",
    ">>>\n",
    ">>> print list(permutations('abc',3))\n",
    "[('a', 'b', 'c'), ('a', 'c', 'b'), ('b', 'a', 'c'), ('b', 'c', 'a'), ('c', 'a', 'b'), ('c', 'b', 'a')]"
   ]
  },
  {
   "cell_type": "code",
   "execution_count": 15,
   "metadata": {},
   "outputs": [
    {
     "data": {
      "text/plain": [
       "['A', 'C', 'H', 'K']"
      ]
     },
     "execution_count": 15,
     "metadata": {},
     "output_type": "execute_result"
    }
   ],
   "source": [
    "S=\"HACK\"\n",
    "sorted(S)"
   ]
  },
  {
   "cell_type": "code",
   "execution_count": 18,
   "metadata": {},
   "outputs": [
    {
     "name": "stdout",
     "output_type": "stream",
     "text": [
      "HA\n",
      "HC\n",
      "HK\n",
      "AH\n",
      "AC\n",
      "AK\n",
      "CH\n",
      "CA\n",
      "CK\n",
      "KH\n",
      "KA\n",
      "KC\n"
     ]
    }
   ],
   "source": [
    "S=\"HACK\"\n",
    "\n",
    "from itertools import *\n",
    "a = list(permutations(S,2))\n",
    "for i in a:\n",
    "    print \"\".join(i)"
   ]
  },
  {
   "cell_type": "code",
   "execution_count": null,
   "metadata": {
    "collapsed": true
   },
   "outputs": [],
   "source": [
    "from itertools import *\n",
    "S, k = raw_input().split()\n",
    "for i in permutations(sorted(S),int(k)):\n",
    "    print(\"\".join(i))"
   ]
  },
  {
   "cell_type": "raw",
   "metadata": {},
   "source": [
    "itertools.combinations(iterable, r) \n",
    "This tool returns the  length subsequences of elements from the input iterable.\n",
    "\n",
    "Combinations are emitted in lexicographic sorted order. So, if the input iterable is sorted, the combination tuples will be produced in sorted order.\n",
    "\n",
    "Sample Code\n",
    "\n",
    ">>> from itertools import combinations\n",
    ">>> \n",
    ">>> print list(combinations('12345',2))\n",
    "[('1', '2'), ('1', '3'), ('1', '4'), ('1', '5'), ('2', '3'), ('2', '4'), ('2', '5'), ('3', '4'), ('3', '5'), ('4', '5')]\n",
    ">>> \n",
    ">>> A = [1,1,3,3,3]\n",
    ">>> print list(combinations(A,4))\n",
    "[(1, 1, 3, 3), (1, 1, 3, 3), (1, 1, 3, 3), (1, 3, 3, 3), (1, 3, 3, 3)]"
   ]
  },
  {
   "cell_type": "code",
   "execution_count": 19,
   "metadata": {},
   "outputs": [
    {
     "name": "stdout",
     "output_type": "stream",
     "text": [
      "HACK 2\n",
      "A\n",
      "C\n",
      "H\n",
      "K\n",
      "AC\n",
      "AH\n",
      "AK\n",
      "CH\n",
      "CK\n",
      "HK\n"
     ]
    }
   ],
   "source": [
    "from itertools import combinations\n",
    "S,k = raw_input().split()\n",
    "for j in range(1,int(k)+1):\n",
    "    for i in combinations(sorted(S),j):\n",
    "        print \"\".join(i)"
   ]
  },
  {
   "cell_type": "raw",
   "metadata": {},
   "source": [
    "itertools.combinations_with_replacement(iterable, r) \n",
    "This tool returns  length subsequences of elements from the input iterable allowing individual elements to be repeated more than once.\n",
    "\n",
    "Combinations are emitted in lexicographic sorted order. So, if the input iterable is sorted, the combination tuples will be produced in sorted order.\n",
    "\n",
    "Sample Code\n",
    "\n",
    ">>> from itertools import combinations_with_replacement\n",
    ">>> \n",
    ">>> print list(combinations_with_replacement('12345',2))\n",
    "[('1', '1'), ('1', '2'), ('1', '3'), ('1', '4'), ('1', '5'), ('2', '2'), ('2', '3'), ('2', '4'), ('2', '5'), ('3', '3'), ('3', '4'), ('3', '5'), ('4', '4'), ('4', '5'), ('5', '5')]\n",
    ">>> \n",
    ">>> A = [1,1,3,3,3]\n",
    ">>> print list(combinations(A,2))\n",
    "[(1, 1), (1, 3), (1, 3), (1, 3), (1, 3), (1, 3), (1, 3), (3, 3), (3, 3), (3, 3)]"
   ]
  },
  {
   "cell_type": "code",
   "execution_count": null,
   "metadata": {
    "collapsed": true
   },
   "outputs": [],
   "source": [
    "from itertools import combinations_with_replacement\n",
    "S,k = raw_input().split()\n",
    "for i in combinations_with_replacement(sorted(S),int(k)):\n",
    "\tprint \"\".join(i)"
   ]
  },
  {
   "cell_type": "raw",
   "metadata": {},
   "source": [
    "In this task, we would like for you to appreciate the usefulness of the groupby() function of itertools . To read more about this function, Check this out .\n",
    "\n",
    "You are given a string . Suppose a character '' occurs consecutively  times in the string. Replace these consecutive occurrences of the character '' with  in the string.\n",
    "\n",
    "For a better understanding of the problem, check the explanation.\n",
    "\n",
    "Input Format\n",
    "\n",
    "A single line of input consisting of the string .\n",
    "\n",
    "Output Format\n",
    "\n",
    "A single line of output consisting of the modified string.\n",
    "\n",
    "Constraints\n",
    "\n",
    "All the characters of  denote integers between  and .\n",
    "\n",
    "\n",
    "Sample Input\n",
    "\n",
    "1222311\n",
    "Sample Output\n",
    "\n",
    "(1, 1) (3, 2) (1, 3) (2, 1)\n",
    "Explanation\n",
    "\n",
    "First, the character  occurs only once. It is replaced by . Then the character  occurs three times, and it is replaced by  and so on.\n",
    "\n",
    "Also, note the single space within each compression and between the compressions."
   ]
  },
  {
   "cell_type": "code",
   "execution_count": 20,
   "metadata": {},
   "outputs": [
    {
     "name": "stdout",
     "output_type": "stream",
     "text": [
      "11221123\n",
      "(2, 1) (2, 2) (2, 1) (1, 2) (1, 3) "
     ]
    }
   ],
   "source": [
    "from __future__ import print_function\n",
    "from itertools import *\n",
    "\n",
    "for i,j in groupby(map(int,list(raw_input()))):\n",
    "    print(tuple([len(list(j)), i]) ,end = \" \")"
   ]
  },
  {
   "cell_type": "raw",
   "metadata": {},
   "source": [
    "The itertools module standardizes a core set of fast, memory efficient tools that are useful by themselves or in combination. Together, they form an iterator algebra making it possible to construct specialized tools succinctly and efficiently in pure Python.\n",
    "\n",
    "To read more about the functions in this module, check out their documentation here.\n",
    "\n",
    "You are given a list of  lowercase English letters. For a given integer , you can select any  indices (assume -based indexing) with a uniform probability from the list.\n",
    "\n",
    "Find the probability that at least one of the  indices selected will contain the letter: ''.\n",
    "\n",
    "Input Format\n",
    "\n",
    "The input consists of three lines. The first line contains the integer , denoting the length of the list. The next line consists of  space-separated lowercase English letters, denoting the elements of the list.\n",
    "\n",
    "The third and the last line of input contains the integer , denoting the number of indices to be selected.\n",
    "\n",
    "Output Format\n",
    "\n",
    "Output a single line consisting of the probability that at least one of the  indices selected contains the letter:''.\n",
    "\n",
    "Note: The answer must be correct up to 3 decimal places.\n",
    "\n",
    "Constraints\n",
    "\n",
    "\n",
    "\n",
    "All the letters in the list are lowercase English letters.\n",
    "\n",
    "Sample Input\n",
    "\n",
    "4 \n",
    "a a c d\n",
    "2\n",
    "Sample Output\n",
    "\n",
    "0.8333\n",
    "Explanation\n",
    "\n",
    "All possible unordered tuples of length  comprising of indices from  to  are:\n",
    "\n",
    "\n",
    "Out of these  combinations,  of them contain either index  or index  which are the indices that contain the letter ''."
   ]
  },
  {
   "cell_type": "code",
   "execution_count": null,
   "metadata": {
    "collapsed": true
   },
   "outputs": [],
   "source": [
    "from itertools import combinations \n",
    "\n",
    "N = int(input())\n",
    "S = raw_input().split(' ')\n",
    "K = int(input())\n",
    "\n",
    "num = 0\n",
    "den = 0\n",
    "\n",
    "for c in combinations(S,K):\n",
    "    den+=1\n",
    "    num+='a' in c\n",
    "    \n",
    "print float(num)/den"
   ]
  },
  {
   "cell_type": "code",
   "execution_count": 23,
   "metadata": {},
   "outputs": [
    {
     "name": "stdout",
     "output_type": "stream",
     "text": [
      "a a b c\n",
      "2\n"
     ]
    }
   ],
   "source": [
    "S = raw_input().split(' ')\n",
    "K = int(input())\n",
    "a =  list(combinations(S,K))"
   ]
  },
  {
   "cell_type": "code",
   "execution_count": 24,
   "metadata": {},
   "outputs": [
    {
     "data": {
      "text/plain": [
       "[('a', 'a'), ('a', 'b'), ('a', 'c'), ('a', 'b'), ('a', 'c'), ('b', 'c')]"
      ]
     },
     "execution_count": 24,
     "metadata": {},
     "output_type": "execute_result"
    }
   ],
   "source": [
    "a"
   ]
  },
  {
   "cell_type": "markdown",
   "metadata": {},
   "source": [
    "You are given a function .\n",
    "\n",
    "You are also given  lists. The  list consists of  elements.\n",
    "\n",
    "You have to pick exactly one element from each list so that the equation below is maximized: \n",
    "\n",
    "%\n",
    "\n",
    " denotes the element picked from the  list . Find the maximized value  obtained.\n",
    "\n",
    " denotes the modulo operator.\n",
    "\n",
    "Input Format "
   ]
  },
  {
   "cell_type": "code",
   "execution_count": null,
   "metadata": {
    "collapsed": true
   },
   "outputs": [],
   "source": [
    "from itertools import *\n",
    "\n",
    "K, M = map(int, raw_input().split())\n",
    "N = []\n",
    "\n",
    "for _ in xrange(K):\n",
    "     N.append(map(int, raw_input().split())[1:])        \n",
    "MAX = -1\n",
    "for i in product(*N):\n",
    "    MAX = max(sum(map(lambda x: x**2, i))%M, MAX)\n",
    "    \n",
    "print MAX  "
   ]
  },
  {
   "cell_type": "raw",
   "metadata": {
    "collapsed": true
   },
   "source": [
    "re\n",
    "\n",
    "A regular expression (or RegEx) specifies a set of strings that matches it.\n",
    "\n",
    "A regex is a sequence of characters that defines a search pattern, mainly for the use of string pattern matching.\n",
    "\n",
    "\n",
    "The re.search() expression scans through a string looking for the first location where the regex pattern produces a match. \n",
    "It either returns a MatchObject instance or returns None if no position in the string matches the pattern.\n",
    "\n",
    "Code\n",
    "\n",
    ">>> import re\n",
    ">>> print bool(re.search(r\"ly\",\"similarly\"))\n",
    "True\n",
    "\n",
    "The re.match() expression only matches at the beginning of the string. \n",
    "It either returns a MatchObject instance or returns None if the string does not match the pattern. \n",
    "Code\n",
    "\n",
    ">>> import re\n",
    ">>> print bool(re.match(r\"ly\",\"similarly\"))\n",
    "False\n",
    ">>> print bool(re.match(r\"ly\",\"ly should be in the beginning\"))\n",
    "True"
   ]
  },
  {
   "cell_type": "raw",
   "metadata": {},
   "source": [
    "We can use ^[+-]?\\d*\\.\\d+$.\n",
    "Explanation:\n",
    "Let X be the floating point number we want to match. Then:\n",
    "^ = the start of X.\n",
    "[+-]? = optional, either + or -. \n",
    "\\d* = zero or more digits. \n",
    "\\. = . symbol. \n",
    "\\d+ = one or more digits. \n",
    "$ = end of X."
   ]
  },
  {
   "cell_type": "code",
   "execution_count": null,
   "metadata": {
    "collapsed": true
   },
   "outputs": [],
   "source": [
    "import re\n",
    "for i in range(int(raw_input())):\n",
    "    print bool(re.search(r\"^[+-]?\\d*\\.\\d+$\",raw_input().strip()))"
   ]
  },
  {
   "cell_type": "code",
   "execution_count": null,
   "metadata": {
    "collapsed": true
   },
   "outputs": [],
   "source": []
  },
  {
   "cell_type": "raw",
   "metadata": {},
   "source": [
    "re.split()\n",
    "\n",
    "The re.split() expression splits the string by occurrence of a pattern.\n",
    "\n",
    "Code\n",
    "\n",
    ">>> import re\n",
    ">>> re.split(\"-\",\"+91-011-2711-1111\")\n",
    "['+91', '011', '2711', '1111']"
   ]
  },
  {
   "cell_type": "code",
   "execution_count": null,
   "metadata": {
    "collapsed": true
   },
   "outputs": [],
   "source": [
    "import re\n",
    "\n",
    "for i in re.split(r'[.,]',raw_input()):\n",
    "    if i.isdigit():\n",
    "        print i"
   ]
  },
  {
   "cell_type": "raw",
   "metadata": {},
   "source": [
    "group()\n",
    "\n",
    "A group() expression returns one or more subgroups of the match. \n",
    "Code\n",
    "\n",
    ">>> import re\n",
    ">>> m = re.match(r'(\\w+)@(\\w+)\\.(\\w+)','username@hackerrank.com')\n",
    ">>> m.group(0)       # The entire match \n",
    "'username@hackerrank.com'\n",
    ">>> m.group(1)       # The first parenthesized subgroup.\n",
    "'username'\n",
    ">>> m.group(2)       # The second parenthesized subgroup.\n",
    "'hackerrank'\n",
    ">>> m.group(3)       # The third parenthesized subgroup.\n",
    "'com'\n",
    ">>> m.group(1,2,3)   # Multiple arguments give us a tuple.\n",
    "('username', 'hackerrank', 'com')\n",
    "groups()\n",
    "\n",
    "A groups() expression returns a tuple containing all the subgroups of the match. \n",
    "Code\n",
    "\n",
    ">>> import re\n",
    ">>> m = re.match(r'(\\w+)@(\\w+)\\.(\\w+)','username@hackerrank.com')\n",
    ">>> m.groups()\n",
    "('username', 'hackerrank', 'com')\n",
    "groupdict()\n",
    "\n",
    "A groupdict() expression returns a dictionary containing all the named subgroups of the match, keyed by the subgroup name. \n",
    "Code\n",
    "\n",
    ">>> m = re.match(r'(?P<user>\\w+)@(?P<website>\\w+)\\.(?P<extension>\\w+)','myname@hackerrank.com')\n",
    ">>> m.groupdict()\n",
    "{'website': 'hackerrank', 'user': 'myname', 'extension': 'com'}"
   ]
  },
  {
   "cell_type": "raw",
   "metadata": {},
   "source": [
    "[A-Za-z0-9])\\1+ can be used to solve this problem. \n",
    "The expression ([A-Za-z0-9]) will match an alphanumeric character and store it in group . \n",
    "The expression \\1 matches the exact same text that was matched by the first capturing group."
   ]
  },
  {
   "cell_type": "code",
   "execution_count": null,
   "metadata": {
    "collapsed": true
   },
   "outputs": [],
   "source": [
    "import re\n",
    "m = re.search(r'([A-Za-z0-9])\\1+',raw_input())\n",
    "if m:\n",
    "    print m.group(1)\n",
    "else:\n",
    "    print -1"
   ]
  },
  {
   "cell_type": "raw",
   "metadata": {},
   "source": [
    "re.findall()\n",
    "\n",
    "The expression re.findall() returns all the non-overlapping matches of patterns in a string as a list of strings. \n",
    "Code\n",
    "\n",
    ">>> import re\n",
    ">>> re.findall(r'\\w','http://www.hackerrank.com/')\n",
    "['h', 't', 't', 'p', 'w', 'w', 'w', 'h', 'a', 'c', 'k', 'e', 'r', 'r', 'a', 'n', 'k', 'c', 'o', 'm']\n",
    "re.finditer()\n",
    "\n",
    "The expression re.finditer() returns an iterator yielding MatchObject instances over all non-overlapping matches for the re pattern in the string. \n",
    "Code\n",
    "\n",
    ">>> import re\n",
    ">>> re.finditer(r'\\w','http://www.hackerrank.com/')\n",
    "<callable-iterator object at 0x0266C790>\n",
    ">>> map(lambda x: x.group(),re.finditer(r'\\w','http://www.hackerrank.com/'))\n",
    "['h', 't', 't', 'p', 'w', 'w', 'w', 'h', 'a', 'c', 'k', 'e', 'r', 'r', 'a', 'n', 'k', 'c', 'o', 'm']"
   ]
  },
  {
   "cell_type": "code",
   "execution_count": null,
   "metadata": {
    "collapsed": true
   },
   "outputs": [],
   "source": [
    "import re\n",
    "consonants = 'qwrtypsdfghjklzxcvbnm'\n",
    "vowels = 'aeiou'\n",
    "match = re.findall(r'(?<=['+consonants+'])(['+vowels+']{2,})(?=['+consonants+'])',raw_input(),flags = re.I)\n",
    "if match:\n",
    "    for i in match:\n",
    "        print i\n",
    "else:\n",
    "    print -1"
   ]
  },
  {
   "cell_type": "raw",
   "metadata": {},
   "source": [
    "start() & end()\n",
    "\n",
    "These expressions return the indices of the start and end of the substring matched by the group.\n",
    "\n",
    "Code\n",
    "\n",
    ">>> import re\n",
    ">>> m = re.search(r'\\d+','1234')\n",
    ">>> m.end()\n",
    "4\n",
    ">>> m.start()\n",
    "0"
   ]
  },
  {
   "cell_type": "raw",
   "metadata": {},
   "source": [
    "Sample Input\n",
    "\n",
    "aaadaa\n",
    "aa\n",
    "Sample Output\n",
    "\n",
    "(0, 1)  \n",
    "(1, 2)\n",
    "(4, 5)"
   ]
  },
  {
   "cell_type": "code",
   "execution_count": null,
   "metadata": {
    "collapsed": true
   },
   "outputs": [],
   "source": [
    "import re\n",
    "S = raw_input()\n",
    "k = raw_input()\n",
    "anymatch = 'No'\n",
    "for m in re.finditer(r'(?=('+k+'))',S):\n",
    "    anymatch = 'Yes'\n",
    "    print (m.start(1),m.end(1)-1)\n",
    "if anymatch == 'No':\n",
    "    print (-1, -1)"
   ]
  },
  {
   "cell_type": "code",
   "execution_count": null,
   "metadata": {
    "collapsed": true
   },
   "outputs": [],
   "source": [
    "import re\n",
    "\n",
    "#Squaring numbers\n",
    "def square(match):\n",
    "    number = int(match.group(0))\n",
    "    return str(number**2)\n",
    "\n",
    "print re.sub(r\"\\d+\", square, \"1 2 3 4 5 6 7 8 9\")"
   ]
  },
  {
   "cell_type": "code",
   "execution_count": null,
   "metadata": {
    "collapsed": true
   },
   "outputs": [],
   "source": [
    "import re\n",
    "\n",
    "html = \"\"\"\n",
    "<head>\n",
    "<title>HTML</title>\n",
    "</head>\n",
    "<object type=\"application/x-flash\" \n",
    "  data=\"your-file.swf\" \n",
    "  width=\"0\" height=\"0\">\n",
    "  <!-- <param name=\"movie\"  value=\"your-file.swf\" /> -->\n",
    "  <param name=\"quality\" value=\"high\"/>\n",
    "</object>\n",
    "\"\"\"\n",
    "\n",
    "print re.sub(\"(<!--.*?-->)\", \"\", html) #remove comment"
   ]
  },
  {
   "cell_type": "code",
   "execution_count": null,
   "metadata": {
    "collapsed": true
   },
   "outputs": [],
   "source": []
  },
  {
   "cell_type": "raw",
   "metadata": {},
   "source": [
    "One can solve this challenge by using the re.sub() tool along with (?<= ) which is a positive lookbehind that makes sure that the pattern is preceded by a space. Also, by using (?= ) which is a positive lookahead that makes sure that the pattern is followed by a space."
   ]
  },
  {
   "cell_type": "code",
   "execution_count": null,
   "metadata": {
    "collapsed": true
   },
   "outputs": [],
   "source": [
    "import re\n",
    "\n",
    "for line in range(int(raw_input())):\n",
    "    string = ''\n",
    "    string = re.sub(r'(?<= )&&(?= )','and',raw_input())\n",
    "    string = re.sub(r'(?<= )\\|\\|(?= )','or',string)\n",
    "    print string"
   ]
  },
  {
   "cell_type": "markdown",
   "metadata": {},
   "source": [
    "# Validating Roman Numerals\n",
    "We can use the regular expression: ^M{0,3}(CM|CD|D?C{0,3})(XC|XL|L?X{0,3})(IX|IV|V?I{0,3})$."
   ]
  },
  {
   "cell_type": "code",
   "execution_count": null,
   "metadata": {
    "collapsed": true
   },
   "outputs": [],
   "source": [
    "import re\n",
    "print bool(re.search(r\"^M{0,3}(CM|CD|D?C{0,3})(XC|XL|L?X{0,3})(IX|IV|V?I{0,3})$\",raw_input()))"
   ]
  },
  {
   "cell_type": "markdown",
   "metadata": {},
   "source": [
    "# Validating phone numbers\n",
    "[789] : match a single digit  or . \n",
    "\\d{9} : match  digits."
   ]
  },
  {
   "cell_type": "code",
   "execution_count": null,
   "metadata": {
    "collapsed": true
   },
   "outputs": [],
   "source": [
    "import re\n",
    "for i in range(int(raw_input())):\n",
    "    print 'YES' if re.search(r\"^[789]\\d{9}$\",raw_input()) else 'NO'"
   ]
  },
  {
   "cell_type": "markdown",
   "metadata": {},
   "source": [
    "# A valid email address meets the following criteria:\n",
    "\n",
    "It's composed of a username, domain name, and extension assembled in this format: username@domain.extension\n",
    "The username starts with an English alphabetical character, and any subsequent characters consist of one or more of the following: alphanumeric characters, -,., and _.\n",
    "The domain and extension contain only English alphabetical characters.\n",
    "The extension is , , or  characters in length.\n",
    "Given  pairs of names and email addresses as input, print each name and email address pair having a valid email address on a new line.\n",
    "\n",
    "Hint: Try using Email.utils() to complete this challenge. For example, this code:\n",
    "\n",
    "import email.utils\n",
    "print email.utils.parseaddr('DOSHI <DOSHI@hackerrank.com>')\n",
    "print email.utils.formataddr(('DOSHI', 'DOSHI@hackerrank.com'))\n",
    "produces this output:\n",
    "\n",
    "('DOSHI', 'DOSHI@hackerrank.com')\n",
    "DOSHI <DOSHI@hackerrank.com>\n",
    "Input Format\n",
    "\n",
    "The first line contains a single integer, , denoting the number of email address. \n",
    "Each line  of the  subsequent lines contains a name and an email address as two space-separated values following this format:\n",
    "\n",
    "name <user@email.com>\n",
    "Constraints\n",
    "\n",
    "Output Format\n",
    "\n",
    "Print the space-separated name and email address pairs containing valid email addresses only. Each pair must be printed on a new line in the following format:\n",
    "\n",
    "name <user@email.com>\n",
    "You must print each valid email address in the same order as it was received as input.\n",
    "\n",
    "Sample Input\n",
    "\n",
    "2  \n",
    "DEXTER <dexter@hotmail.com>\n",
    "VIRUS <virus!@variable.:p>\n",
    "Sample Output\n",
    "\n",
    "DEXTER <dexter@hotmail.com>\n",
    "Explanation\n",
    "\n",
    "dexter@hotmail.com is a valid email address, so we print the name and email address pair received as input on a new line. \n",
    "virus!@variable.:p is not a valid email address because the username contains an exclamation point (!) and the extension contains a colon (:). As this email is not valid, we print nothing."
   ]
  },
  {
   "cell_type": "code",
   "execution_count": null,
   "metadata": {
    "collapsed": true
   },
   "outputs": [],
   "source": [
    "import re\n",
    "from email.utils import *\n",
    "for i in range(int(raw_input())):\n",
    "    email = parseaddr(raw_input())\n",
    "    # print email[1]\n",
    "    # \\w is equivalent to a-zA-Z_\n",
    "    if bool(re.search(r'^[a-zA-Z][\\w\\-\\.]*@[A-Za-z]+\\.[a-zA-Z]{1,3}$', email[1])):\n",
    "        print formataddr(email)"
   ]
  },
  {
   "cell_type": "code",
   "execution_count": 1,
   "metadata": {
    "collapsed": true
   },
   "outputs": [],
   "source": [
    "import numpy as np"
   ]
  },
  {
   "cell_type": "markdown",
   "metadata": {},
   "source": [
    "# Validating UID\n",
    "(.*[A-Z]){2,} \n",
    ".* matches any character (except for a newline). \n",
    "[A-Z] matches a single character present in the range between A and Z (case sensitive). \n",
    "\n",
    "(.*[0-9]){3,} \n",
    ".* matches any character (except for a newline). \n",
    "[0-9] matches a single character present in the range between 0 and 9 (case sensitive) \n",
    "\n",
    "\n",
    ".*(.).*\\1+.* \n",
    ".* matches any character (except for a newline). \n",
    "\\1+ matches the same text as the most recently matched by the 1st capturing group."
   ]
  },
  {
   "cell_type": "code",
   "execution_count": null,
   "metadata": {
    "collapsed": true
   },
   "outputs": [],
   "source": [
    "import re\n",
    "for i in range(int(raw_input())):\n",
    "    N = raw_input().strip()\n",
    "    if N.isalnum() and len(N) == 10:\n",
    "        if bool(re.search(r'(.*[A-Z]){2,}',N)) and bool(re.search(r'(.*[0-9]){3,}',N)):\n",
    "            if re.search(r'.*(.).*\\1+.*',N):\n",
    "                print 'Invalid'\n",
    "            else:\n",
    "                print 'Valid'    \n",
    "        else:\n",
    "            print 'Invalid'\n",
    "    else:\n",
    "        print 'Invalid'"
   ]
  },
  {
   "cell_type": "markdown",
   "metadata": {},
   "source": [
    "# Validating Credit Card Numbers\n",
    "You and Fredrick are good friends. Yesterday, Fredrick received  credit cards from ABCD Bank. He wants to verify whether his credit card numbers are valid or not. You happen to be great at regex so he is asking for your help!\n",
    "\n",
    "A valid credit card from ABCD Bank has the following characteristics: \n",
    "\n",
    "► It must start with a ,  or . \n",
    "\n",
    "► It must contain exactly  digits. \n",
    "\n",
    "► It must only consist of digits (-). \n",
    "\n",
    "► It may have digits in groups of , separated by one hyphen \"-\". \n",
    "\n",
    "► It must NOT use any other separator like ' ' , '_', etc. \n",
    "\n",
    "► It must NOT have  or more consecutive repeated digits."
   ]
  },
  {
   "cell_type": "markdown",
   "metadata": {},
   "source": [
    "# This problem can be divided into two parts:\n",
    "\n",
    "Part1 : \n",
    "    \n",
    "Check if credit card number size if exactly 16, all the characters are integers and - symbol may be present after every group of 4 digits\n",
    "\n",
    "All the above checks can be validated using : r'^[456]\\d{3}(-?)\\d{4}\\1\\d{4}\\1\\d{4}$'\n",
    "\n",
    "Part2: \n",
    "    \n",
    "Check is credit card number has 4 or more repeating consecutive digits\n",
    "\n",
    "This check can be validated using : r'(\\d)\\1{3,}''"
   ]
  },
  {
   "cell_type": "code",
   "execution_count": null,
   "metadata": {
    "collapsed": true
   },
   "outputs": [],
   "source": [
    "import re\n",
    "for i in range(int(raw_input())):\n",
    "    S = raw_input().strip()\n",
    "    pre_match = re.search(r'^[456]\\d{3}(-?)\\d{4}\\1\\d{4}\\1\\d{4}$',S)\n",
    "    if pre_match:\n",
    "        processed_string = \"\".join(pre_match.group(0).split('-'))\n",
    "        final_match = re.search(r'(\\d)\\1{3,}',processed_string)\n",
    "        print 'Invalid' if final_match else 'Valid'\n",
    "    else:\n",
    "        print 'Invalid'"
   ]
  },
  {
   "cell_type": "markdown",
   "metadata": {},
   "source": [
    "# Validating Postal Codes\n",
    "A postal code  must be a number in the range of (). \n",
    "A postal code  must not contain more than one alternating repetitive digit pair. \n",
    "\n",
    "Alternating repetitive digits are digits which repeat immediately after the next digit. In other words, an alternating repetitive digit pair is formed by two equal digits that have just a single digit between them.\n",
    "\n",
    "For example:\n",
    "\n",
    "121426 # Here, 1 is an alternating repetitive digit.\n",
    "523563 # Here, NO digit is an alternating repetitive digit.\n",
    "552523 # Here, both 2 and 5 are alternating repetitive digits.\n",
    "Your task is to validate whether  is a valid postal code or not.\n",
    "\n",
    "Input Format\n",
    "\n",
    "One single line of input containing the string .\n",
    "\n",
    "Output Format\n",
    "\n",
    "Print \"True\" if  is valid. Otherwise, print \"False\". Do not print the quotation marks.\n",
    "\n",
    "Sample Input\n",
    "\n",
    "110000\n",
    "Sample Output\n",
    "\n",
    "False\n",
    "Explanation\n",
    "\n",
    "1 1 0000 : (0, 0) and (0, 0) are two alternating digit pairs. Hence, it is an invalid postal code.\n",
    "\n",
    "Note: \n",
    "A score of  will be awarded for using 'if' conditions in your code. \n",
    "You have to pass all the testcases to get a positive score."
   ]
  },
  {
   "cell_type": "markdown",
   "metadata": {},
   "source": [
    "# Approach is:\n",
    "    \n",
    "a) (?=(\\d)\\d\\1) using this regex findall how many alternating repetitive digits are there. \n",
    "\n",
    "b) ^[1-9][0-9]{5}$ using this regex check that postal code is in the range 100000 - 999999\n",
    "\n",
    "Add the boolean obtained from these to checks and print the result."
   ]
  },
  {
   "cell_type": "code",
   "execution_count": null,
   "metadata": {
    "collapsed": true
   },
   "outputs": [],
   "source": [
    "import re\n",
    "P = raw_input()\n",
    "print len(re.findall(r'(?=(\\d)\\d\\1)',P)) < 2 and bool(re.match(r'^[1-9][0-9]{5}$',P))"
   ]
  },
  {
   "cell_type": "markdown",
   "metadata": {},
   "source": [
    "# Exceptions\n",
    "\n",
    "Errors detected during execution are called exceptions.\n",
    "\n",
    "Examples:\n",
    "\n",
    "ZeroDivisionError \n",
    "This error is raised when the second argument of a division or modulo operation is zero.\n",
    "\n",
    "a = '1'\n",
    "\n",
    "b = '0'\n",
    "\n",
    "print int(a) / int(b)\n",
    "\n",
    "ZeroDivisionError: integer division or modulo by zero\n",
    "\n",
    "ValueError \n",
    "\n",
    "This error is raised when a built-in operation or function receives an argument that has the right type but an inappropriate \n",
    "value.\n",
    "\n",
    "\n",
    "a = '1'\n",
    "\n",
    "b = '#'\n",
    "\n",
    "print int(a) / int(b)\n",
    "\n",
    "ValueError: invalid literal for int() with base 10: '#'\n",
    "\n",
    "To learn more about different built-in exceptions click here.\n",
    "\n",
    "Handling Exceptions\n",
    "\n",
    "The statements try and except can be used to handle selected exceptions. A try statement may have more than one except clause to specify handlers for different exceptions.\n",
    "\n",
    "#Code\n",
    "try:\n",
    "    print 1/0\n",
    "except ZeroDivisionError as e:\n",
    "print \"Error Code:\",e\n",
    "Output\n",
    "\n",
    "Error Code: integer division or modulo by zero"
   ]
  },
  {
   "cell_type": "code",
   "execution_count": null,
   "metadata": {
    "collapsed": true
   },
   "outputs": [],
   "source": [
    "for i in range(int(raw_input())):\n",
    "    try:\n",
    "        a,b = map(int, raw_input().split())\n",
    "        print a/b\n",
    "    except ZeroDivisionError as e:\n",
    "        print 'Error Code:',e\n",
    "    except ValueError as e:\n",
    "        print 'Error Code:',e"
   ]
  },
  {
   "cell_type": "markdown",
   "metadata": {},
   "source": [
    "Inside the try statement, we can re.compile the input string. If the compilation of regex fails, then the except would handle the output."
   ]
  },
  {
   "cell_type": "code",
   "execution_count": null,
   "metadata": {
    "collapsed": true
   },
   "outputs": [],
   "source": [
    "import re\n",
    "for i in range(int(raw_input())):\n",
    "    try:\n",
    "        s = raw_input()\n",
    "        re.compile(s)\n",
    "    except:\n",
    "        print False\n",
    "        continue\n",
    "    print True "
   ]
  },
  {
   "cell_type": "code",
   "execution_count": null,
   "metadata": {
    "collapsed": true
   },
   "outputs": [],
   "source": []
  }
 ],
 "metadata": {
  "kernelspec": {
   "display_name": "Python 3",
   "language": "python",
   "name": "python3"
  },
  "language_info": {
   "codemirror_mode": {
    "name": "ipython",
    "version": 3
   },
   "file_extension": ".py",
   "mimetype": "text/x-python",
   "name": "python",
   "nbconvert_exporter": "python",
   "pygments_lexer": "ipython3",
   "version": "3.6.1"
  }
 },
 "nbformat": 4,
 "nbformat_minor": 1
}
